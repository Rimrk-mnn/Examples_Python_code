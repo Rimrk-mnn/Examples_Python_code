{
 "cells": [
  {
   "cell_type": "markdown",
   "id": "c30fba58",
   "metadata": {},
   "source": [
    "- imported data set ors_prods_merge\n",
    "- histogram order time of day\n",
    "- marketing bar histogram/countplot customer loyalty\n",
    "- line chart order time of day vs prices\n",
    "- line chart person per household by age\n",
    "- scatterplot age/income"
   ]
  },
  {
   "cell_type": "code",
   "execution_count": null,
   "id": "f571c888",
   "metadata": {},
   "outputs": [],
   "source": [
    "# Import Libraries\n",
    "import pandas as pd\n",
    "import numpy as np\n",
    "import os\n",
    "import matplotlib.pyplot as plt\n",
    "import seaborn as sns\n",
    "import scipy"
   ]
  },
  {
   "cell_type": "code",
   "execution_count": null,
   "id": "f4671a65",
   "metadata": {},
   "outputs": [],
   "source": [
    "path = r'C:\\Users\\rieke\\Data Analytics\\Achievment 4\\02-2023_Instacart Basket Analysis'"
   ]
  },
  {
   "cell_type": "code",
   "execution_count": null,
   "id": "23b7c33c",
   "metadata": {},
   "outputs": [],
   "source": [
    "path"
   ]
  },
  {
   "cell_type": "markdown",
   "id": "c29a7aa2",
   "metadata": {},
   "source": [
    "### 1) Create a new notebook, import the necessary analysis and visualization libraries, then import your most up-to-date project data (i.e., the data set with your new customer data from the first part of this task)."
   ]
  },
  {
   "cell_type": "code",
   "execution_count": null,
   "id": "6c5a9d2c",
   "metadata": {},
   "outputs": [],
   "source": [
    "ords_prods_cust_merge = pd.read_pickle(os.path.join(path, '02 Data', 'Prepared Data', 'ords_prods_cust_merge.pkl'))"
   ]
  },
  {
   "cell_type": "code",
   "execution_count": null,
   "id": "5c909e0e",
   "metadata": {},
   "outputs": [],
   "source": [
    "ords_prods_cust_merge.head()"
   ]
  },
  {
   "cell_type": "code",
   "execution_count": null,
   "id": "95c4f5a6",
   "metadata": {
    "scrolled": true
   },
   "outputs": [],
   "source": [
    "ords_prods_cust_merge.shape"
   ]
  },
  {
   "cell_type": "markdown",
   "id": "f5f54694",
   "metadata": {},
   "source": [
    "### 2) If you haven’t done so already, follow the instructions in the Exercise to create a bar chart, a histogram, a scatterplot, and a line chart, using a sample subset for the line chart."
   ]
  },
  {
   "cell_type": "markdown",
   "id": "6f4a42a8",
   "metadata": {},
   "source": [
    "done during the exercise before"
   ]
  },
  {
   "cell_type": "markdown",
   "id": "72668401",
   "metadata": {},
   "source": [
    "### 3) You need to provide the Instacart senior stakeholders with descriptive findings about sales. Create a histogram of the “order_hour_of_day” column.\n",
    "In a markdown cell beneath your histogram, describe what the histogram demonstrates."
   ]
  },
  {
   "cell_type": "code",
   "execution_count": null,
   "id": "2592d274",
   "metadata": {
    "scrolled": true
   },
   "outputs": [],
   "source": [
    "hist2 = sns.histplot(ords_prods_cust_merge['order_time_of_day'], bins = 24, color = 'green')"
   ]
  },
  {
   "cell_type": "code",
   "execution_count": null,
   "id": "b18cc4fa",
   "metadata": {},
   "outputs": [],
   "source": [
    "hist2.figure.savefig(os.path.join(path, '04 Analysis', 'Visualizations', 'hist_ords_by_hour_new.png'))"
   ]
  },
  {
   "cell_type": "code",
   "execution_count": null,
   "id": "cf9a11fb",
   "metadata": {
    "scrolled": true
   },
   "outputs": [],
   "source": [
    "hist = ords_prods_cust_merge['order_time_of_day'].plot.hist(bins = 24, color = 'green')"
   ]
  },
  {
   "cell_type": "markdown",
   "id": "325db75e",
   "metadata": {},
   "source": [
    "the above Histogram shows that the busiest hour is 10am, busiest time frame 9am - 16pm and that it´s really quiet in the morning from 0 - 6am"
   ]
  },
  {
   "cell_type": "code",
   "execution_count": null,
   "id": "ad3b4abf",
   "metadata": {},
   "outputs": [],
   "source": [
    "hist.figure.savefig(os.path.join(path, '04 Analysis', 'Visualizations', 'hist_ords_by_hour.png'))"
   ]
  },
  {
   "cell_type": "markdown",
   "id": "08f932c3",
   "metadata": {},
   "source": [
    "### 4) The marketing team is curious about the distribution of orders among customers in terms of loyalty. Create a bar chart from the “loyalty_flag” column."
   ]
  },
  {
   "cell_type": "code",
   "execution_count": null,
   "id": "b3179de5",
   "metadata": {
    "scrolled": true
   },
   "outputs": [],
   "source": [
    "bar_marketing = ords_prods_cust_merge['loyalty_flag'].value_counts().plot.bar(color = 'green').set(title ='Loyalty by Type of Customer')"
   ]
  },
  {
   "cell_type": "code",
   "execution_count": null,
   "id": "a12467e0",
   "metadata": {},
   "outputs": [],
   "source": [
    "bar_marketing.figure.savefig(os.path.join(path, '04 Analysis', 'Visualizations', 'Bar loyalty'))"
   ]
  },
  {
   "cell_type": "markdown",
   "id": "ed6a254f",
   "metadata": {},
   "source": [
    "### 5) Check whether there’s a difference in expenditure (the “prices” column) depending on the hour of the day. (Hint: To check this, you need to use an accurate sample for your line chart!)\n"
   ]
  },
  {
   "cell_type": "code",
   "execution_count": null,
   "id": "a3aadfcc",
   "metadata": {},
   "outputs": [],
   "source": [
    "# set mark for splitting data 70/30\n",
    "np.random.seed(4)\n",
    "dev = np.random.rand(len(ords_prods_cust_merge)) <= 0.7"
   ]
  },
  {
   "cell_type": "code",
   "execution_count": null,
   "id": "f8573507",
   "metadata": {},
   "outputs": [],
   "source": [
    "dev"
   ]
  },
  {
   "cell_type": "code",
   "execution_count": null,
   "id": "70986123",
   "metadata": {},
   "outputs": [],
   "source": [
    "# extract bigger data set 70%\n",
    "big_ords_prods_cust = ords_prods_cust_merge[dev]"
   ]
  },
  {
   "cell_type": "code",
   "execution_count": null,
   "id": "11b97b77",
   "metadata": {},
   "outputs": [],
   "source": [
    "# extract smaller data set 30%\n",
    "small_ords_prods_cust = ords_prods_cust_merge[~dev]"
   ]
  },
  {
   "cell_type": "code",
   "execution_count": null,
   "id": "456fb9fe",
   "metadata": {},
   "outputs": [],
   "source": [
    "# check shape (compare to above result in 1)\n",
    "len(big_ords_prods_cust) + len(small_ords_prods_cust)"
   ]
  },
  {
   "cell_type": "code",
   "execution_count": null,
   "id": "e6d7b0ae",
   "metadata": {},
   "outputs": [],
   "source": [
    "# reducing sample on needed columns for line chart\n",
    "df_2 = small_ords_prods_cust[['order_time_of_day','prices']]"
   ]
  },
  {
   "cell_type": "code",
   "execution_count": null,
   "id": "10dd8d54",
   "metadata": {},
   "outputs": [],
   "source": [
    "line = sns.lineplot(data = df_2, x = 'order_time_of_day',y = 'prices', color = 'green').set_title('Spending by Time of Day')"
   ]
  },
  {
   "cell_type": "code",
   "execution_count": null,
   "id": "21cf66bc",
   "metadata": {},
   "outputs": [],
   "source": [
    "line.figure.savefig(os.path.join(path, '04 Analysis', 'Visualizations', 'line_order_time_price.png'))"
   ]
  },
  {
   "cell_type": "markdown",
   "id": "142ee937",
   "metadata": {},
   "source": [
    "The most expensive products are bought in the early morning"
   ]
  },
  {
   "cell_type": "markdown",
   "id": "9ddc6ebd",
   "metadata": {},
   "source": [
    "### 6) Now that you have information about customers, you need to conduct some exploratory analysis of customer demographics to inform the targeted marketing campaigns. First, determine whether there’s a connection between age and family situation by creating a line chart exploring the connections between age and number of dependents:\n",
    "In a markdown cell beneath your line chart, describe what the line chart shows.\n"
   ]
  },
  {
   "cell_type": "code",
   "execution_count": null,
   "id": "8008a409",
   "metadata": {},
   "outputs": [],
   "source": [
    "# reducing sample on needed columns for line chart\n",
    "df_3 = small_ords_prods_cust[['age','pers_p_household']]"
   ]
  },
  {
   "cell_type": "code",
   "execution_count": null,
   "id": "83a61510",
   "metadata": {},
   "outputs": [],
   "source": [
    "df_3.head(15)"
   ]
  },
  {
   "cell_type": "code",
   "execution_count": null,
   "id": "aaa58ea2",
   "metadata": {},
   "outputs": [],
   "source": [
    "line2 = sns.lineplot(data = df_3, x = 'age', y = 'pers_p_household', color='orange')"
   ]
  },
  {
   "cell_type": "markdown",
   "id": "fbd75c9f",
   "metadata": {},
   "source": [
    "People up to 20 and people at 60 are having the most persons per household, so I guess they are living together"
   ]
  },
  {
   "cell_type": "code",
   "execution_count": null,
   "id": "ac955194",
   "metadata": {},
   "outputs": [],
   "source": [
    "line2.figure.savefig(os.path.join(path, '04 Analysis', 'Visualizations', 'line_age_pph.png'))"
   ]
  },
  {
   "cell_type": "markdown",
   "id": "7d623d2d",
   "metadata": {},
   "source": [
    "### 7) You’ll also need to explore whether there’s a connection between age and spending power (income). To visualize this relationship, create a scatterplot using the sns.scatterplot() function.\n",
    "In a markdown cell beneath your scatterplot, describe what the scatterplot shows."
   ]
  },
  {
   "cell_type": "code",
   "execution_count": null,
   "id": "b3111100",
   "metadata": {},
   "outputs": [],
   "source": [
    "scatterplot1 = sns.scatterplot(data = small_ords_prods_cust, x = 'age', y = 'income', hue ='gender')"
   ]
  },
  {
   "cell_type": "markdown",
   "id": "37ddc73c",
   "metadata": {},
   "source": [
    "It can be seen that income increases more from 40 onwards"
   ]
  },
  {
   "cell_type": "code",
   "execution_count": null,
   "id": "2c39f8f8",
   "metadata": {},
   "outputs": [],
   "source": [
    "scatterplot1.figure.savefig(os.path.join(path, '04 Analysis', 'Visualizations', 'Scatterplot_income.png'))"
   ]
  },
  {
   "cell_type": "code",
   "execution_count": null,
   "id": "e25e8866",
   "metadata": {},
   "outputs": [],
   "source": [
    "list(small_ords_prods_cust)"
   ]
  },
  {
   "cell_type": "code",
   "execution_count": null,
   "id": "236d9e5b",
   "metadata": {},
   "outputs": [],
   "source": [
    "scatterplot2 = sns.scatterplot(data = small_ords_prods_cust, x = 'age', y = 'pers_p_household', hue ='cust_type')"
   ]
  },
  {
   "cell_type": "code",
   "execution_count": null,
   "id": "be29c2bd",
   "metadata": {},
   "outputs": [],
   "source": []
  }
 ],
 "metadata": {
  "kernelspec": {
   "display_name": "Python 3 (ipykernel)",
   "language": "python",
   "name": "python3"
  },
  "language_info": {
   "codemirror_mode": {
    "name": "ipython",
    "version": 3
   },
   "file_extension": ".py",
   "mimetype": "text/x-python",
   "name": "python",
   "nbconvert_exporter": "python",
   "pygments_lexer": "ipython3",
   "version": "3.9.13"
  }
 },
 "nbformat": 4,
 "nbformat_minor": 5
}

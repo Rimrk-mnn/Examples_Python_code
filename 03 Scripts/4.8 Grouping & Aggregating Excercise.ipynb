{
 "cells": [
  {
   "cell_type": "markdown",
   "id": "b6e261b9",
   "metadata": {},
   "source": [
    "- aggregations with data subset\n",
    "- assigning loyalty flag\n",
    "- replacing NaN price values with median"
   ]
  },
  {
   "cell_type": "code",
   "execution_count": null,
   "id": "6a956a4a",
   "metadata": {},
   "outputs": [],
   "source": [
    "# import Libraries\n",
    "import pandas as pd\n",
    "import numpy as np\n",
    "import os"
   ]
  },
  {
   "cell_type": "code",
   "execution_count": null,
   "id": "2634c5dc",
   "metadata": {},
   "outputs": [],
   "source": [
    "path = r\"C:\\Users\\rieke\\Data Analytics\\Achievment 4\\02-2023_Instacart Basket Analysis\\02 Data\""
   ]
  },
  {
   "cell_type": "code",
   "execution_count": null,
   "id": "d7029cfd",
   "metadata": {},
   "outputs": [],
   "source": [
    "path"
   ]
  },
  {
   "cell_type": "code",
   "execution_count": null,
   "id": "e3e61589",
   "metadata": {},
   "outputs": [],
   "source": [
    "ords_prods_merge = pd.read_pickle(os.path.join(path, 'Prepared Data', 'orders_products_merged.pkl'))"
   ]
  },
  {
   "cell_type": "code",
   "execution_count": null,
   "id": "89534684",
   "metadata": {},
   "outputs": [],
   "source": [
    "# create subset\n",
    "sub_ords_prods = ords_prods_merge[:1000000]"
   ]
  },
  {
   "cell_type": "code",
   "execution_count": null,
   "id": "bbfe39c9",
   "metadata": {},
   "outputs": [],
   "source": [
    "sub_ords_prods.shape"
   ]
  },
  {
   "cell_type": "code",
   "execution_count": null,
   "id": "24816856",
   "metadata": {},
   "outputs": [],
   "source": [
    "sub_ords_prods.head(10)"
   ]
  },
  {
   "cell_type": "code",
   "execution_count": null,
   "id": "f12f09e0",
   "metadata": {},
   "outputs": [],
   "source": [
    "# group by product name\n",
    "sub_ords_prods.groupby('product_name')"
   ]
  },
  {
   "cell_type": "code",
   "execution_count": null,
   "id": "881cdf20",
   "metadata": {},
   "outputs": [],
   "source": [
    "# group by department, aggregate orders by mean\n",
    "sub_ords_prods.groupby('department_id').agg({'order_number': ['mean']})"
   ]
  },
  {
   "cell_type": "code",
   "execution_count": null,
   "id": "e78f91d0",
   "metadata": {},
   "outputs": [],
   "source": [
    "# group by department, aggregate orders by var. arguments\n",
    "sub_ords_prods.groupby('department_id').agg({'order_number': ['mean', 'min', 'max']})"
   ]
  },
  {
   "cell_type": "code",
   "execution_count": null,
   "id": "d52a519a",
   "metadata": {},
   "outputs": [],
   "source": [
    "# insert new col. max_order, group by user, transform max value (use numpy library) of order_nr into new col. max_order \n",
    "ords_prods_merge['max_order'] = ords_prods_merge.groupby(['user_id'])['order_number'].transform(np.max)"
   ]
  },
  {
   "cell_type": "code",
   "execution_count": null,
   "id": "30d2655e",
   "metadata": {
    "scrolled": true
   },
   "outputs": [],
   "source": [
    "ords_prods_merge.head()"
   ]
  },
  {
   "cell_type": "code",
   "execution_count": null,
   "id": "96354547",
   "metadata": {},
   "outputs": [],
   "source": [
    "ords_prods_merge.loc[ords_prods_merge['max_order'] > 40, 'loyalty_flag'] = 'Loyal customer'\n",
    "ords_prods_merge.loc[(ords_prods_merge['max_order'] <= 40) & (ords_prods_merge['max_order'] > 10), 'loyalty_flag'] = 'Regular customer'\n",
    "ords_prods_merge.loc[ords_prods_merge['max_order'] <= 10, 'loyalty_flag'] = 'New customer'"
   ]
  },
  {
   "cell_type": "code",
   "execution_count": null,
   "id": "f3184f79",
   "metadata": {
    "scrolled": true
   },
   "outputs": [],
   "source": [
    "ords_prods_merge['loyalty_flag'].value_counts(dropna = False)"
   ]
  },
  {
   "cell_type": "code",
   "execution_count": null,
   "id": "421b9e4c",
   "metadata": {},
   "outputs": [],
   "source": [
    "ords_prods_merge['prices'].describe()"
   ]
  },
  {
   "cell_type": "code",
   "execution_count": null,
   "id": "92ab8bc8",
   "metadata": {},
   "outputs": [],
   "source": [
    "ords_prods_merge['prices'].median()"
   ]
  },
  {
   "cell_type": "code",
   "execution_count": null,
   "id": "b6fb69b8",
   "metadata": {},
   "outputs": [],
   "source": [
    "ords_prods_merge['prices'].fillna(7.4, inplace=True)"
   ]
  },
  {
   "cell_type": "code",
   "execution_count": null,
   "id": "0fb9ab5f",
   "metadata": {},
   "outputs": [],
   "source": [
    "ords_prods_merge['prices'].describe()"
   ]
  },
  {
   "cell_type": "code",
   "execution_count": null,
   "id": "60461620",
   "metadata": {},
   "outputs": [],
   "source": [
    "df_nan = ords_prods_merge['prices'].value_counts(dropna = False)"
   ]
  },
  {
   "cell_type": "code",
   "execution_count": null,
   "id": "e94134a0",
   "metadata": {},
   "outputs": [],
   "source": []
  }
 ],
 "metadata": {
  "kernelspec": {
   "display_name": "Python 3 (ipykernel)",
   "language": "python",
   "name": "python3"
  },
  "language_info": {
   "codemirror_mode": {
    "name": "ipython",
    "version": 3
   },
   "file_extension": ".py",
   "mimetype": "text/x-python",
   "name": "python",
   "nbconvert_exporter": "python",
   "pygments_lexer": "ipython3",
   "version": "3.9.13"
  }
 },
 "nbformat": 4,
 "nbformat_minor": 5
}

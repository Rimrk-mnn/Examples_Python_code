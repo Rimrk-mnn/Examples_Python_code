{
 "cells": [
  {
   "cell_type": "markdown",
   "id": "65628825",
   "metadata": {},
   "source": [
    "- deriving price labels\n",
    "- changing budiest day into busiest days\n",
    "- assign budiest period of day"
   ]
  },
  {
   "cell_type": "code",
   "execution_count": null,
   "id": "343599d8",
   "metadata": {},
   "outputs": [],
   "source": [
    "# Import Libraries\n",
    "import pandas as pd\n",
    "import numpy as np\n",
    "import os"
   ]
  },
  {
   "cell_type": "code",
   "execution_count": null,
   "id": "b05f2818",
   "metadata": {},
   "outputs": [],
   "source": [
    "# set path\n",
    "path = r'C:\\Users\\rieke\\Data Analytics\\Achievment 4\\02-2023_Instacart Basket Analysis\\02 Data'"
   ]
  },
  {
   "cell_type": "code",
   "execution_count": null,
   "id": "6d783a67",
   "metadata": {},
   "outputs": [],
   "source": [
    "ords_prods_merged = pd.read_pickle(os.path.join(path, 'Prepared Data', 'orders_products_merged.pkl'))"
   ]
  },
  {
   "cell_type": "code",
   "execution_count": null,
   "id": "74480cd4",
   "metadata": {},
   "outputs": [],
   "source": [
    "df_sub = ords_prods_merged[:1000000]"
   ]
  },
  {
   "cell_type": "code",
   "execution_count": null,
   "id": "e665d256",
   "metadata": {},
   "outputs": [],
   "source": [
    "df_sub.shape"
   ]
  },
  {
   "cell_type": "code",
   "execution_count": null,
   "id": "f0ac93d7",
   "metadata": {},
   "outputs": [],
   "source": [
    "def price_label(row):\n",
    "\n",
    "  if row['prices'] <= 5:\n",
    "    return 'Low-range product'\n",
    "  elif (row['prices'] > 5) and (row['prices'] <= 15):\n",
    "    return 'Mid-range product'\n",
    "  elif row['prices'] > 15:\n",
    "    return 'High range'\n",
    "  else: return 'Not enough data'"
   ]
  },
  {
   "cell_type": "code",
   "execution_count": null,
   "id": "591f57f3",
   "metadata": {
    "scrolled": true
   },
   "outputs": [],
   "source": [
    "df_sub['price_range'] = df_sub.apply(price_label, axis=1)"
   ]
  },
  {
   "cell_type": "code",
   "execution_count": null,
   "id": "49263fcb",
   "metadata": {},
   "outputs": [],
   "source": [
    "df_sub['price_range'].value_counts(dropna=False)"
   ]
  },
  {
   "cell_type": "code",
   "execution_count": null,
   "id": "342ae6f8",
   "metadata": {},
   "outputs": [],
   "source": [
    "df_sub['prices'].max()"
   ]
  },
  {
   "cell_type": "markdown",
   "id": "c8a510b4",
   "metadata": {},
   "source": [
    "## run loc() function on full ords_prods_merged data set"
   ]
  },
  {
   "cell_type": "code",
   "execution_count": null,
   "id": "35fa2af0",
   "metadata": {},
   "outputs": [],
   "source": [
    "ords_prods_merged.loc[ords_prods_merged['prices'] > 15, 'price_range'] = 'High range product'"
   ]
  },
  {
   "cell_type": "code",
   "execution_count": null,
   "id": "3deb70a8",
   "metadata": {},
   "outputs": [],
   "source": [
    "ords_prods_merged.loc[(ords_prods_merged['prices'] <= 15) & (ords_prods_merged['prices'] > 5), 'price_range'] = 'Mid range product'"
   ]
  },
  {
   "cell_type": "code",
   "execution_count": null,
   "id": "426996ec",
   "metadata": {},
   "outputs": [],
   "source": [
    "ords_prods_merged.loc[ords_prods_merged['prices'] <= 5, 'price_range'] = 'Low range product'"
   ]
  },
  {
   "cell_type": "code",
   "execution_count": null,
   "id": "20e7401f",
   "metadata": {},
   "outputs": [],
   "source": [
    "ords_prods_merged['price_range'].value_counts(dropna = False)"
   ]
  },
  {
   "cell_type": "code",
   "execution_count": null,
   "id": "f2a27d3c",
   "metadata": {},
   "outputs": [],
   "source": [
    "ords_prods_merged['orders_day_of_week'].value_counts(dropna = False)"
   ]
  },
  {
   "cell_type": "code",
   "execution_count": null,
   "id": "fdc4f85a",
   "metadata": {},
   "outputs": [],
   "source": [
    "# create list \n",
    "result = []\n",
    "\n",
    "for value in ords_prods_merged[\"orders_day_of_week\"]:\n",
    "  if value == 0:\n",
    "    result.append(\"Busiest day\")\n",
    "  elif value == 4:\n",
    "    result.append(\"Least busy\")\n",
    "  else:\n",
    "    result.append(\"Regularly busy\")"
   ]
  },
  {
   "cell_type": "code",
   "execution_count": null,
   "id": "b6ab0b64",
   "metadata": {},
   "outputs": [],
   "source": [
    "result"
   ]
  },
  {
   "cell_type": "code",
   "execution_count": null,
   "id": "de0b7609",
   "metadata": {},
   "outputs": [],
   "source": [
    "## merge list with df\n",
    "ords_prods_merged['busiest_day'] = result"
   ]
  },
  {
   "cell_type": "code",
   "execution_count": null,
   "id": "bcefd2e4",
   "metadata": {
    "scrolled": false
   },
   "outputs": [],
   "source": [
    "ords_prods_merged['busiest_day'].value_counts(dropna = False)"
   ]
  },
  {
   "cell_type": "markdown",
   "id": "6c9655bf",
   "metadata": {},
   "source": [
    "# Start with Task"
   ]
  },
  {
   "cell_type": "markdown",
   "id": "a1b3c411",
   "metadata": {},
   "source": [
    "## 2) Suppose your clients have changed their minds about the labels you created in your “busiest_day” column. Now, they want “Busiest day” to become “Busiest days” (plural). This label should correspond with the two busiest days of the week as opposed to the single busiest day. At the same time, they’d also like to know the two slowest days. Create a new column for this using a suitable method."
   ]
  },
  {
   "cell_type": "code",
   "execution_count": null,
   "id": "4ca27ba9",
   "metadata": {},
   "outputs": [],
   "source": [
    "ords_prods_merged = ords_prods_merged.drop(columns = ['busiest_day'])"
   ]
  },
  {
   "cell_type": "code",
   "execution_count": null,
   "id": "43d6c1af",
   "metadata": {},
   "outputs": [],
   "source": [
    "# create a new list\n",
    "\n",
    "result2 = []\n",
    "\n",
    "for value in ords_prods_merged[\"orders_day_of_week\"]:\n",
    "  if value in (0, 1):\n",
    "    result2.append(\"Busiest days\")\n",
    "  elif value in (4, 3):\n",
    "    result2.append(\"Least busy\")\n",
    "  else:\n",
    "    result2.append(\"Regularly busy\")"
   ]
  },
  {
   "cell_type": "code",
   "execution_count": null,
   "id": "d03fb975",
   "metadata": {},
   "outputs": [],
   "source": [
    "result2"
   ]
  },
  {
   "cell_type": "code",
   "execution_count": null,
   "id": "834aa8d3",
   "metadata": {},
   "outputs": [],
   "source": [
    "## merge new list with df\n",
    "ords_prods_merged['busiest_days'] = result2"
   ]
  },
  {
   "cell_type": "markdown",
   "id": "67cd878a",
   "metadata": {},
   "source": [
    "## 3) Check the values of this new column for accuracy. Note any observations in markdown format."
   ]
  },
  {
   "cell_type": "code",
   "execution_count": null,
   "id": "7eecb347",
   "metadata": {},
   "outputs": [],
   "source": [
    "ords_prods_merged['busiest_days'].value_counts(dropna = False)"
   ]
  },
  {
   "cell_type": "markdown",
   "id": "21ec4ba9",
   "metadata": {},
   "source": [
    "### sum of counts is still the same as expected, but in another distribution as per request ( & that makes more sence at least)."
   ]
  },
  {
   "cell_type": "markdown",
   "id": "d113dc6c",
   "metadata": {},
   "source": [
    "## 4) When too many users make Instacart orders at the same time, the app freezes. The senior technical officer at Instacart wants you to identify the busiest hours of the day. Rather than by hour, they want periods of time labeled “Most orders,” “Average orders,” and “Fewest orders.” Create a new column containing these labels called “busiest_period_of_day.”"
   ]
  },
  {
   "cell_type": "code",
   "execution_count": null,
   "id": "e2943178",
   "metadata": {},
   "outputs": [],
   "source": [
    "list(ords_prods_merged)"
   ]
  },
  {
   "cell_type": "code",
   "execution_count": null,
   "id": "30f68803",
   "metadata": {},
   "outputs": [],
   "source": [
    "ords_prods_merged['order_time_of_day'].value_counts(dropna = False)"
   ]
  },
  {
   "cell_type": "code",
   "execution_count": null,
   "id": "23934236",
   "metadata": {},
   "outputs": [],
   "source": [
    "# create list\n",
    "\n",
    "result3 = []\n",
    "\n",
    "for value in ords_prods_merged['order_time_of_day']:\n",
    "  if value in (10, 11, 14, 15, 13, 12, 16):\n",
    "    result3.append('Most orders (>2.5 Mio)')\n",
    "  elif value in (20, 7, 21, 22, 23, 6, 0, 1, 5, 2, 4, 3):\n",
    "    result3.append('Fewest orders (<100k)')\n",
    "  else:\n",
    "    result3.append('Average orders')"
   ]
  },
  {
   "cell_type": "code",
   "execution_count": null,
   "id": "3f3c0d17",
   "metadata": {},
   "outputs": [],
   "source": [
    "result3"
   ]
  },
  {
   "cell_type": "code",
   "execution_count": null,
   "id": "f34ba913",
   "metadata": {},
   "outputs": [],
   "source": [
    "ords_prods_merged['busiest_period_of_day'] = result3"
   ]
  },
  {
   "cell_type": "markdown",
   "id": "2fd2b5be",
   "metadata": {},
   "source": [
    "## 5) Print the frequency for this new column."
   ]
  },
  {
   "cell_type": "code",
   "execution_count": null,
   "id": "3ee74dda",
   "metadata": {},
   "outputs": [],
   "source": [
    "ords_prods_merged['busiest_period_of_day'].value_counts(dropna = False)"
   ]
  },
  {
   "cell_type": "code",
   "execution_count": null,
   "id": "aff83700",
   "metadata": {},
   "outputs": [],
   "source": [
    "ords_prods_merged.to_pickle(os.path.join(path, 'Prepared Data', 'orders_products_merged2.pkl'))"
   ]
  },
  {
   "cell_type": "code",
   "execution_count": null,
   "id": "1a22e626",
   "metadata": {},
   "outputs": [],
   "source": []
  }
 ],
 "metadata": {
  "kernelspec": {
   "display_name": "Python 3 (ipykernel)",
   "language": "python",
   "name": "python3"
  },
  "language_info": {
   "codemirror_mode": {
    "name": "ipython",
    "version": 3
   },
   "file_extension": ".py",
   "mimetype": "text/x-python",
   "name": "python",
   "nbconvert_exporter": "python",
   "pygments_lexer": "ipython3",
   "version": "3.9.13"
  }
 },
 "nbformat": 4,
 "nbformat_minor": 5
}

{
 "cells": [
  {
   "cell_type": "markdown",
   "id": "e302cd27",
   "metadata": {},
   "source": [
    "## Import Libraries"
   ]
  },
  {
   "cell_type": "code",
   "execution_count": null,
   "id": "856840d7",
   "metadata": {},
   "outputs": [],
   "source": [
    "import pandas as pd\n",
    "import numpy as np\n",
    "import os"
   ]
  },
  {
   "cell_type": "code",
   "execution_count": null,
   "id": "d500a7fc",
   "metadata": {},
   "outputs": [],
   "source": [
    "path = r\"C:\\Users\\rieke\\Data Analytics\\Achievment 4\\02-2023_Instacart Basket Analysis\""
   ]
  },
  {
   "cell_type": "code",
   "execution_count": null,
   "id": "5fde60af",
   "metadata": {},
   "outputs": [],
   "source": [
    "path"
   ]
  },
  {
   "cell_type": "markdown",
   "id": "324a6eee",
   "metadata": {},
   "source": [
    "### Importing Dataset orders"
   ]
  },
  {
   "cell_type": "code",
   "execution_count": null,
   "id": "79c9e9ca",
   "metadata": {},
   "outputs": [],
   "source": [
    "df_ords = pd.read_csv(os.path.join(path, '02 Data', 'Original Data', 'orders.csv'), index_col = False)"
   ]
  },
  {
   "cell_type": "markdown",
   "id": "d7acb28d",
   "metadata": {},
   "source": [
    "### Importing Dataset products"
   ]
  },
  {
   "cell_type": "code",
   "execution_count": null,
   "id": "d150eafa",
   "metadata": {},
   "outputs": [],
   "source": [
    "df_prods = pd.read_csv(os.path.join(path, '02 Data', 'Original Data', 'products.csv'), index_col = False)"
   ]
  },
  {
   "cell_type": "markdown",
   "id": "5a618db7",
   "metadata": {},
   "source": [
    "### Dropping eval_set column from orders"
   ]
  },
  {
   "cell_type": "code",
   "execution_count": null,
   "id": "7838217e",
   "metadata": {},
   "outputs": [],
   "source": [
    "df_ords.drop(columns = ['eval_set'])"
   ]
  },
  {
   "cell_type": "code",
   "execution_count": null,
   "id": "a872509d",
   "metadata": {},
   "outputs": [],
   "source": [
    "df_ords['days_since_prior_order'].value_counts(dropna = False)"
   ]
  },
  {
   "cell_type": "code",
   "execution_count": null,
   "id": "d3496398",
   "metadata": {},
   "outputs": [],
   "source": [
    "df_ords.rename(columns = {'order_dow' : 'orders_day_of_week'}, inplace = True)"
   ]
  },
  {
   "cell_type": "code",
   "execution_count": null,
   "id": "3f5c898d",
   "metadata": {},
   "outputs": [],
   "source": [
    "df_ords.head(50)"
   ]
  },
  {
   "cell_type": "markdown",
   "id": "c23107e0",
   "metadata": {},
   "source": [
    "### Importing Data set departments.csv"
   ]
  },
  {
   "cell_type": "code",
   "execution_count": null,
   "id": "b1f340fa",
   "metadata": {},
   "outputs": [],
   "source": [
    "df_dep = pd.read_csv(os.path.join(path, '02 Data','Original Data','departments.csv'), index_col = False)"
   ]
  },
  {
   "cell_type": "code",
   "execution_count": null,
   "id": "2f537ff7",
   "metadata": {},
   "outputs": [],
   "source": [
    "df_dep.head()"
   ]
  },
  {
   "cell_type": "code",
   "execution_count": null,
   "id": "96bb3575",
   "metadata": {},
   "outputs": [],
   "source": [
    "df_dep.T"
   ]
  },
  {
   "cell_type": "code",
   "execution_count": null,
   "id": "783bd0ae",
   "metadata": {},
   "outputs": [],
   "source": [
    "df_dep_t = df_dep.T"
   ]
  },
  {
   "cell_type": "code",
   "execution_count": null,
   "id": "f01cd7cf",
   "metadata": {},
   "outputs": [],
   "source": [
    "df_dep_t.reset_index()"
   ]
  },
  {
   "cell_type": "markdown",
   "id": "989a9dce",
   "metadata": {},
   "source": [
    "### define Header"
   ]
  },
  {
   "cell_type": "code",
   "execution_count": null,
   "id": "694e40e5",
   "metadata": {},
   "outputs": [],
   "source": [
    "new_header = df_dep_t.iloc[0]"
   ]
  },
  {
   "cell_type": "code",
   "execution_count": null,
   "id": "0740efed",
   "metadata": {},
   "outputs": [],
   "source": [
    "new_header"
   ]
  },
  {
   "cell_type": "markdown",
   "id": "03c9ce7d",
   "metadata": {},
   "source": [
    "### new df without origin header"
   ]
  },
  {
   "cell_type": "code",
   "execution_count": null,
   "id": "09c1bbef",
   "metadata": {},
   "outputs": [],
   "source": [
    "df_dep_t_new = df_dep_t[1:]"
   ]
  },
  {
   "cell_type": "code",
   "execution_count": null,
   "id": "aeb07bff",
   "metadata": {},
   "outputs": [],
   "source": [
    "df_dep_t_new"
   ]
  },
  {
   "cell_type": "code",
   "execution_count": null,
   "id": "84f6f93f",
   "metadata": {},
   "outputs": [],
   "source": [
    "df_dep_t_new.columns = new_header"
   ]
  },
  {
   "cell_type": "code",
   "execution_count": null,
   "id": "5ddd8eb0",
   "metadata": {},
   "outputs": [],
   "source": [
    "df_dep_t_new"
   ]
  },
  {
   "cell_type": "code",
   "execution_count": null,
   "id": "6a32a19a",
   "metadata": {},
   "outputs": [],
   "source": [
    "data_dict = df_dep_t_new.to_dict('index')"
   ]
  },
  {
   "cell_type": "code",
   "execution_count": null,
   "id": "86f9c16f",
   "metadata": {},
   "outputs": [],
   "source": [
    "data_dict"
   ]
  },
  {
   "cell_type": "code",
   "execution_count": null,
   "id": "e4e6409a",
   "metadata": {},
   "outputs": [],
   "source": [
    "df_prods.head()"
   ]
  },
  {
   "cell_type": "code",
   "execution_count": null,
   "id": "f00d9e45",
   "metadata": {},
   "outputs": [],
   "source": [
    "print(data_dict.get('19'))"
   ]
  },
  {
   "cell_type": "code",
   "execution_count": null,
   "id": "3b1ae410",
   "metadata": {},
   "outputs": [],
   "source": [
    "df_snacks =  df_prods[df_prods['department_id']==19]"
   ]
  },
  {
   "cell_type": "code",
   "execution_count": null,
   "id": "48114ea8",
   "metadata": {},
   "outputs": [],
   "source": [
    "df_snacks.head()"
   ]
  },
  {
   "cell_type": "markdown",
   "id": "57fae365",
   "metadata": {},
   "source": [
    "# Start with Task"
   ]
  },
  {
   "cell_type": "markdown",
   "id": "d0662dde",
   "metadata": {},
   "source": [
    "## 2) Find another identifier variable in the df_ords and change it to a suitable format."
   ]
  },
  {
   "cell_type": "code",
   "execution_count": null,
   "id": "bd477538",
   "metadata": {},
   "outputs": [],
   "source": [
    "df_ords['order_number'] = df_ords['order_number'].astype('str')"
   ]
  },
  {
   "cell_type": "code",
   "execution_count": null,
   "id": "fc87c147",
   "metadata": {},
   "outputs": [],
   "source": [
    "df_ords['order_number'].dtype"
   ]
  },
  {
   "cell_type": "markdown",
   "id": "1f11a984",
   "metadata": {},
   "source": [
    "## 3) Look for a variable in your df_ords dataframe with an unintuitive name and change its name without overwriting the data frame."
   ]
  },
  {
   "cell_type": "code",
   "execution_count": null,
   "id": "d3e57d14",
   "metadata": {},
   "outputs": [],
   "source": [
    "df_ords.rename(columns = {'eval_set' : 'order_type'}, inplace = True)"
   ]
  },
  {
   "cell_type": "code",
   "execution_count": null,
   "id": "9e3442d4",
   "metadata": {},
   "outputs": [],
   "source": [
    "df_ords.head()"
   ]
  },
  {
   "cell_type": "markdown",
   "id": "f5229a74",
   "metadata": {},
   "source": [
    "## 4) Your client wants to know what the busiest hour is for placing orders. Find the frequency of the corresponding variable and share your findings."
   ]
  },
  {
   "cell_type": "code",
   "execution_count": null,
   "id": "1f066548",
   "metadata": {},
   "outputs": [],
   "source": [
    "df_ords['order_hour_of_day'].describe()"
   ]
  },
  {
   "cell_type": "code",
   "execution_count": null,
   "id": "7fe312fb",
   "metadata": {},
   "outputs": [],
   "source": [
    "df_ords['order_hour_of_day'].mode(dropna=False)"
   ]
  },
  {
   "cell_type": "markdown",
   "id": "f1043d8c",
   "metadata": {},
   "source": [
    "### 10 is the busiest hours of ordering"
   ]
  },
  {
   "cell_type": "markdown",
   "id": "c21dfe12",
   "metadata": {},
   "source": [
    "## 5) Determine the meaning behind a value of 4 in the \"department_id\" column within the df_prods dataframe using a data dictionary."
   ]
  },
  {
   "cell_type": "code",
   "execution_count": null,
   "id": "2e0574ae",
   "metadata": {},
   "outputs": [],
   "source": [
    "print(data_dict.get('4'))"
   ]
  },
  {
   "cell_type": "markdown",
   "id": "2efe2cda",
   "metadata": {},
   "source": [
    "## 6) The sales team in your client’s organization wants to know more about breakfast item sales. Create a subset containing only the required information."
   ]
  },
  {
   "cell_type": "code",
   "execution_count": null,
   "id": "d4a5e497",
   "metadata": {},
   "outputs": [],
   "source": [
    "df_breakfast =  df_prods[df_prods['department_id']==14]"
   ]
  },
  {
   "cell_type": "code",
   "execution_count": null,
   "id": "a396890c",
   "metadata": {
    "scrolled": true
   },
   "outputs": [],
   "source": [
    "df_breakfast"
   ]
  },
  {
   "cell_type": "markdown",
   "id": "9171bbb2",
   "metadata": {},
   "source": [
    "## 7) They’d also like to see details about customers who might be throwing dinner parties. "
   ]
  },
  {
   "cell_type": "code",
   "execution_count": null,
   "id": "328e7103",
   "metadata": {},
   "outputs": [],
   "source": [
    "df_cust = pd.read_csv(os.path.join(path, '02 Data', 'Original Data', 'customers.csv'), index_col = False)"
   ]
  },
  {
   "cell_type": "code",
   "execution_count": null,
   "id": "dbf6d874",
   "metadata": {
    "scrolled": false
   },
   "outputs": [],
   "source": [
    "df_cust"
   ]
  },
  {
   "cell_type": "code",
   "execution_count": null,
   "id": "1c69afe7",
   "metadata": {},
   "outputs": [],
   "source": [
    "df_dinnerparty =  df_prods[df_prods['department_id'].isin([5,7,12,20])]"
   ]
  },
  {
   "cell_type": "code",
   "execution_count": null,
   "id": "45aafa2a",
   "metadata": {
    "scrolled": true
   },
   "outputs": [],
   "source": [
    "df_dinnerparty"
   ]
  },
  {
   "cell_type": "markdown",
   "id": "e7cb1923",
   "metadata": {},
   "source": [
    "## 8) It’s important that you keep track of total counts in your dataframes. How many rows does the last dataframe you created have?"
   ]
  },
  {
   "cell_type": "code",
   "execution_count": null,
   "id": "e9152174",
   "metadata": {},
   "outputs": [],
   "source": [
    "df_breakfast.shape"
   ]
  },
  {
   "cell_type": "markdown",
   "id": "b6381cd2",
   "metadata": {},
   "source": [
    "## 9) Someone from the data engineers team in Instacart thinks they’ve spotted something strange about the customer with a \"user_id\" of “1.” Extract all the information you can about this user."
   ]
  },
  {
   "cell_type": "code",
   "execution_count": null,
   "id": "6427bb76",
   "metadata": {},
   "outputs": [],
   "source": [
    "df_user1 =  df_cust[df_cust['user_id']==1]"
   ]
  },
  {
   "cell_type": "code",
   "execution_count": null,
   "id": "3fdd2c6b",
   "metadata": {},
   "outputs": [],
   "source": [
    "df_user1"
   ]
  },
  {
   "cell_type": "code",
   "execution_count": null,
   "id": "60e59d02",
   "metadata": {},
   "outputs": [],
   "source": [
    "df_user1_ord =  df_ords[df_ords['user_id']==1]"
   ]
  },
  {
   "cell_type": "code",
   "execution_count": null,
   "id": "032deedc",
   "metadata": {
    "scrolled": true
   },
   "outputs": [],
   "source": [
    "df_user1_ord"
   ]
  },
  {
   "cell_type": "markdown",
   "id": "ed03a49a",
   "metadata": {},
   "source": [
    "## 10) You also need to provide some details about this user’s behavior. What basic stats can you provide based on the information you have?"
   ]
  },
  {
   "cell_type": "code",
   "execution_count": null,
   "id": "f89df4b1",
   "metadata": {
    "scrolled": true
   },
   "outputs": [],
   "source": [
    "df_user1_ord.describe()"
   ]
  },
  {
   "cell_type": "markdown",
   "id": "d645e9ca",
   "metadata": {},
   "source": [
    "### User 1 (Linda Nguyen) likes to order days 2-3 of a week around the 10th hour"
   ]
  },
  {
   "cell_type": "code",
   "execution_count": null,
   "id": "be52aeaa",
   "metadata": {},
   "outputs": [],
   "source": [
    "## 12 & 13) Ex"
   ]
  },
  {
   "cell_type": "code",
   "execution_count": null,
   "id": "cb430b17",
   "metadata": {},
   "outputs": [],
   "source": [
    "df_ords.to_csv(os.path.join(path, '02 Data','Prepared Data', 'orders_wrangled.csv'))"
   ]
  },
  {
   "cell_type": "code",
   "execution_count": null,
   "id": "9e0aa979",
   "metadata": {},
   "outputs": [],
   "source": [
    "df_dep_t_new.to_csv(os.path.join(path, '02 Data','Prepared Data', 'departments_wrangled.csv'))"
   ]
  },
  {
   "cell_type": "code",
   "execution_count": null,
   "id": "6cd79f50",
   "metadata": {},
   "outputs": [],
   "source": []
  }
 ],
 "metadata": {
  "kernelspec": {
   "display_name": "Python 3 (ipykernel)",
   "language": "python",
   "name": "python3"
  },
  "language_info": {
   "codemirror_mode": {
    "name": "ipython",
    "version": 3
   },
   "file_extension": ".py",
   "mimetype": "text/x-python",
   "name": "python",
   "nbconvert_exporter": "python",
   "pygments_lexer": "ipython3",
   "version": "3.9.13"
  }
 },
 "nbformat": 4,
 "nbformat_minor": 5
}

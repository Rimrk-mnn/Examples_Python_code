{
 "cells": [
  {
   "cell_type": "markdown",
   "id": "a77533a2",
   "metadata": {},
   "source": [
    "- bar chart orders days of week\n",
    "- histogrem prices\n",
    "- histogram price range\n",
    "- scatterplot prices\n",
    "- histogram of departments\n",
    "- subsetting 70/30\n",
    "- linechart with order days of week/ prices"
   ]
  },
  {
   "cell_type": "code",
   "execution_count": null,
   "id": "ec6e9292",
   "metadata": {},
   "outputs": [],
   "source": [
    "# Import Libraries\n",
    "import pandas as pd\n",
    "import numpy as np\n",
    "import os\n",
    "import matplotlib.pyplot as plt\n",
    "import seaborn as sns\n",
    "import scipy"
   ]
  },
  {
   "cell_type": "code",
   "execution_count": null,
   "id": "2bd21e28",
   "metadata": {},
   "outputs": [],
   "source": [
    "path = r\"C:\\Users\\rieke\\Data Analytics\\Achievment 4\\02-2023_Instacart Basket Analysis\""
   ]
  },
  {
   "cell_type": "code",
   "execution_count": null,
   "id": "e3bd7be8",
   "metadata": {},
   "outputs": [],
   "source": [
    "path"
   ]
  },
  {
   "cell_type": "code",
   "execution_count": null,
   "id": "8b65380d",
   "metadata": {},
   "outputs": [],
   "source": [
    "ords_prods_merge = pd.read_pickle(os.path.join(path, '02 Data', 'Prepared Data', 'ords_prods_merge_wo_inf.pkl'))"
   ]
  },
  {
   "cell_type": "code",
   "execution_count": null,
   "id": "c669aaa9",
   "metadata": {
    "scrolled": true
   },
   "outputs": [],
   "source": [
    "# create bar chart\n",
    "ords_prods_merge['orders_day_of_week'].value_counts().plot.bar()"
   ]
  },
  {
   "cell_type": "code",
   "execution_count": null,
   "id": "b36bbc2d",
   "metadata": {
    "scrolled": true
   },
   "outputs": [],
   "source": [
    "bar = ords_prods_merge['orders_day_of_week'].value_counts().sort_index().plot.bar(color='green').set_title('Orders by Day of Week')"
   ]
  },
  {
   "cell_type": "code",
   "execution_count": null,
   "id": "3fef157c",
   "metadata": {},
   "outputs": [],
   "source": [
    "bar.figure.savefig(os.path.join(path, '04 Analysis', 'Visualizations', 'bar_orders_dow.png'))"
   ]
  },
  {
   "cell_type": "code",
   "execution_count": null,
   "id": "9e2eae03",
   "metadata": {
    "scrolled": true
   },
   "outputs": [],
   "source": [
    "# create Histogram\n",
    "ords_prods_merge['prices'].plot.hist(bins = 25)"
   ]
  },
  {
   "cell_type": "code",
   "execution_count": null,
   "id": "cc9aaae3",
   "metadata": {
    "scrolled": true
   },
   "outputs": [],
   "source": [
    "hist1 = sns.histplot(ords_prods_merge['prices'], bins = 25, color = 'green')"
   ]
  },
  {
   "cell_type": "code",
   "execution_count": null,
   "id": "b2a07652",
   "metadata": {},
   "outputs": [],
   "source": [
    "hist5 = sns.histplot(ords_prods_merge['price_range'], bins = 25, color = 'green')"
   ]
  },
  {
   "cell_type": "code",
   "execution_count": null,
   "id": "08108b06",
   "metadata": {
    "scrolled": true
   },
   "outputs": [],
   "source": [
    "sns.scatterplot(x = 'prices', y = 'prices',data = ords_prods_merge)"
   ]
  },
  {
   "cell_type": "code",
   "execution_count": null,
   "id": "dd210c37",
   "metadata": {},
   "outputs": [],
   "source": [
    "ords_prods_merge.groupby(['department_id', 'price_range'])['prices'].nunique().to_frame('prices').unstack()"
   ]
  },
  {
   "cell_type": "code",
   "execution_count": null,
   "id": "cdeaf26a",
   "metadata": {},
   "outputs": [],
   "source": [
    "hist1.figure.savefig(os.path.join(path, '04 Analysis', 'Visualizations', 'histogram_prices.png'))"
   ]
  },
  {
   "cell_type": "code",
   "execution_count": null,
   "id": "d532210a",
   "metadata": {},
   "outputs": [],
   "source": [
    "hist5.figure.savefig(os.path.join(path, '04 Analysis', 'Visualizations', 'histogram_price_groups.png'))"
   ]
  },
  {
   "cell_type": "code",
   "execution_count": null,
   "id": "f54a72c7",
   "metadata": {},
   "outputs": [],
   "source": [
    "list(ords_prods_merge)"
   ]
  },
  {
   "cell_type": "code",
   "execution_count": null,
   "id": "d3477f87",
   "metadata": {},
   "outputs": [],
   "source": [
    "# crate a histogram of articles"
   ]
  },
  {
   "cell_type": "code",
   "execution_count": null,
   "id": "d7f6ee1b",
   "metadata": {
    "scrolled": true
   },
   "outputs": [],
   "source": [
    "hist2 = sns.histplot(ords_prods_merge['department_id'], bins = 21, color = 'green')"
   ]
  },
  {
   "cell_type": "code",
   "execution_count": null,
   "id": "4ff87992",
   "metadata": {
    "scrolled": true
   },
   "outputs": [],
   "source": [
    "hist2.set_ylabel('Department', fontsize=12)"
   ]
  },
  {
   "cell_type": "code",
   "execution_count": null,
   "id": "d352cb35",
   "metadata": {},
   "outputs": [],
   "source": [
    "hist2.set_xlabel('')"
   ]
  },
  {
   "cell_type": "code",
   "execution_count": null,
   "id": "473ff7a4",
   "metadata": {},
   "outputs": [],
   "source": [
    "plt.show()"
   ]
  },
  {
   "cell_type": "code",
   "execution_count": null,
   "id": "4da3f00e",
   "metadata": {
    "scrolled": true
   },
   "outputs": [],
   "source": [
    "hist3 = sns.histplot(data=ords_prods_merge, y='department_id', bins=21, color ='lime', discrete=True)"
   ]
  },
  {
   "cell_type": "code",
   "execution_count": null,
   "id": "6a85081f",
   "metadata": {
    "scrolled": true
   },
   "outputs": [],
   "source": [
    "ords_prods_merge.value_counts('department_id')"
   ]
  },
  {
   "cell_type": "code",
   "execution_count": null,
   "id": "81ad1bd7",
   "metadata": {},
   "outputs": [],
   "source": [
    "hist2.figure.savefig(os.path.join(path, '04 Analysis', 'Visualizations', 'histogram_dept.png'))"
   ]
  },
  {
   "cell_type": "code",
   "execution_count": null,
   "id": "09a08453",
   "metadata": {},
   "outputs": [],
   "source": [
    "hist3.figure.savefig(os.path.join(path, '04 Analysis', 'Visualizations', 'histogram_dept1.png'))"
   ]
  },
  {
   "cell_type": "code",
   "execution_count": null,
   "id": "f16a6a7e",
   "metadata": {},
   "outputs": [],
   "source": [
    "# Create a list holding true/false values \n",
    "np.random.seed(4)\n",
    "dev = np.random.rand(len(ords_prods_merge)) <= 0.7"
   ]
  },
  {
   "cell_type": "code",
   "execution_count": null,
   "id": "3c885ae8",
   "metadata": {},
   "outputs": [],
   "source": [
    "dev"
   ]
  },
  {
   "cell_type": "code",
   "execution_count": null,
   "id": "82f2767c",
   "metadata": {},
   "outputs": [],
   "source": [
    "# Store 70% of the sample in the df \"big\"\n",
    "big = ords_prods_merge[dev]"
   ]
  },
  {
   "cell_type": "code",
   "execution_count": null,
   "id": "91081e06",
   "metadata": {},
   "outputs": [],
   "source": [
    "# Store 30% of the sample in the df \"small\"\n",
    "small = ords_prods_merge[~dev]"
   ]
  },
  {
   "cell_type": "code",
   "execution_count": null,
   "id": "8287504a",
   "metadata": {},
   "outputs": [],
   "source": [
    "df_2 = small[['orders_day_of_week','prices']]"
   ]
  },
  {
   "cell_type": "code",
   "execution_count": null,
   "id": "f727a6a9",
   "metadata": {},
   "outputs": [],
   "source": [
    "line = sns.lineplot(data = df_2, x = 'orders_day_of_week',y = 'prices')"
   ]
  },
  {
   "cell_type": "code",
   "execution_count": null,
   "id": "2c8d75f1",
   "metadata": {},
   "outputs": [],
   "source": [
    "line.figure.savefig(os.path.join(path, '04 Analysis', 'Visualizations', 'line_ords_prices.png'))"
   ]
  },
  {
   "cell_type": "code",
   "execution_count": null,
   "id": "c299cb35",
   "metadata": {},
   "outputs": [],
   "source": []
  }
 ],
 "metadata": {
  "kernelspec": {
   "display_name": "Python 3 (ipykernel)",
   "language": "python",
   "name": "python3"
  },
  "language_info": {
   "codemirror_mode": {
    "name": "ipython",
    "version": 3
   },
   "file_extension": ".py",
   "mimetype": "text/x-python",
   "name": "python",
   "nbconvert_exporter": "python",
   "pygments_lexer": "ipython3",
   "version": "3.9.13"
  }
 },
 "nbformat": 4,
 "nbformat_minor": 5
}

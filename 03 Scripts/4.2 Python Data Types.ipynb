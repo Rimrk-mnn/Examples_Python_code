{
 "cells": [
  {
   "cell_type": "code",
   "execution_count": 1,
   "id": "08532575",
   "metadata": {},
   "outputs": [],
   "source": [
    "#working with Python data types\n",
    "x = 50"
   ]
  },
  {
   "cell_type": "code",
   "execution_count": 2,
   "id": "9b8deba1",
   "metadata": {},
   "outputs": [
    {
     "data": {
      "text/plain": [
       "100"
      ]
     },
     "execution_count": 2,
     "metadata": {},
     "output_type": "execute_result"
    }
   ],
   "source": [
    "x * 2"
   ]
  },
  {
   "cell_type": "code",
   "execution_count": 3,
   "id": "fbfba3c8",
   "metadata": {},
   "outputs": [
    {
     "data": {
      "text/plain": [
       "100"
      ]
     },
     "execution_count": 3,
     "metadata": {},
     "output_type": "execute_result"
    }
   ],
   "source": [
    "50 + 50"
   ]
  },
  {
   "cell_type": "code",
   "execution_count": 4,
   "id": "e3621b46",
   "metadata": {},
   "outputs": [],
   "source": [
    "x = x + 50"
   ]
  },
  {
   "cell_type": "code",
   "execution_count": 5,
   "id": "12ac8f8e",
   "metadata": {},
   "outputs": [
    {
     "data": {
      "text/plain": [
       "100"
      ]
     },
     "execution_count": 5,
     "metadata": {},
     "output_type": "execute_result"
    }
   ],
   "source": [
    "x"
   ]
  },
  {
   "cell_type": "code",
   "execution_count": null,
   "id": "7c87a183",
   "metadata": {},
   "outputs": [],
   "source": [
    "# code 2 floating-point variables and divide them by each other"
   ]
  },
  {
   "cell_type": "code",
   "execution_count": 11,
   "id": "e73954ff",
   "metadata": {},
   "outputs": [],
   "source": [
    "y = 10.5"
   ]
  },
  {
   "cell_type": "code",
   "execution_count": 12,
   "id": "7809e3f5",
   "metadata": {},
   "outputs": [],
   "source": [
    "z = 5.25"
   ]
  },
  {
   "cell_type": "code",
   "execution_count": 14,
   "id": "222cbd1e",
   "metadata": {},
   "outputs": [
    {
     "data": {
      "text/plain": [
       "2.0"
      ]
     },
     "execution_count": 14,
     "metadata": {},
     "output_type": "execute_result"
    }
   ],
   "source": [
    "y / z"
   ]
  },
  {
   "cell_type": "code",
   "execution_count": 15,
   "id": "8f72ccc8",
   "metadata": {},
   "outputs": [],
   "source": [
    "m = 'Merry'"
   ]
  },
  {
   "cell_type": "code",
   "execution_count": 16,
   "id": "effbefca",
   "metadata": {},
   "outputs": [],
   "source": [
    "n = 'Christmas'"
   ]
  },
  {
   "cell_type": "code",
   "execution_count": 19,
   "id": "7762a0b3",
   "metadata": {},
   "outputs": [
    {
     "data": {
      "text/plain": [
       "'MerryChristmas'"
      ]
     },
     "execution_count": 19,
     "metadata": {},
     "output_type": "execute_result"
    }
   ],
   "source": [
    "m + n"
   ]
  },
  {
   "cell_type": "code",
   "execution_count": 27,
   "id": "93fa1c72",
   "metadata": {},
   "outputs": [],
   "source": [
    "d = 'we are ready '"
   ]
  },
  {
   "cell_type": "code",
   "execution_count": 28,
   "id": "40de23ab",
   "metadata": {},
   "outputs": [],
   "source": [
    "e = 'to learn Python'"
   ]
  },
  {
   "cell_type": "code",
   "execution_count": 29,
   "id": "fd247109",
   "metadata": {},
   "outputs": [
    {
     "data": {
      "text/plain": [
       "'we are ready to learn Python'"
      ]
     },
     "execution_count": 29,
     "metadata": {},
     "output_type": "execute_result"
    }
   ],
   "source": [
    "d + e"
   ]
  },
  {
   "cell_type": "code",
   "execution_count": null,
   "id": "81ef100b",
   "metadata": {},
   "outputs": [],
   "source": []
  }
 ],
 "metadata": {
  "kernelspec": {
   "display_name": "Python 3 (ipykernel)",
   "language": "python",
   "name": "python3"
  },
  "language_info": {
   "codemirror_mode": {
    "name": "ipython",
    "version": 3
   },
   "file_extension": ".py",
   "mimetype": "text/x-python",
   "name": "python",
   "nbconvert_exporter": "python",
   "pygments_lexer": "ipython3",
   "version": "3.9.13"
  }
 },
 "nbformat": 4,
 "nbformat_minor": 5
}

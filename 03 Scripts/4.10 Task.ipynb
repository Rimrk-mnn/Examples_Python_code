{
 "cells": [
  {
   "cell_type": "markdown",
   "id": "83d90c07",
   "metadata": {},
   "source": [
    "content:\n",
    "- assigning regions to state (Task 3.1)\n",
    "- relation spending habits between regions (spending flag vs. region) Task 3.2\n",
    "- exclude customers with less than 5 orders (Task 4)\n",
    "- customer segmentation for marketing\n",
    "- charts by region and customer segmentation"
   ]
  },
  {
   "cell_type": "code",
   "execution_count": null,
   "id": "3899ef6a",
   "metadata": {},
   "outputs": [],
   "source": [
    "# Import Libraries\n",
    "import pandas as pd\n",
    "import numpy as np\n",
    "import os\n",
    "import matplotlib.pyplot as plt\n",
    "import seaborn as sns\n",
    "import scipy"
   ]
  },
  {
   "cell_type": "code",
   "execution_count": null,
   "id": "ef9d473c",
   "metadata": {},
   "outputs": [],
   "source": [
    "# set path\n",
    "path = r'C:\\Users\\rieke\\Data Analytics\\Achievment 4\\02-2023_Instacart Basket Analysis'"
   ]
  },
  {
   "cell_type": "code",
   "execution_count": null,
   "id": "cf7843d0",
   "metadata": {},
   "outputs": [],
   "source": [
    "path"
   ]
  },
  {
   "cell_type": "code",
   "execution_count": null,
   "id": "2246d1b0",
   "metadata": {},
   "outputs": [],
   "source": [
    "ords_prods_cust_merge = pd.read_pickle(os.path.join(path, '02 Data', 'Prepared Data', 'ords_prods_cust_merge.pkl'))"
   ]
  },
  {
   "cell_type": "code",
   "execution_count": null,
   "id": "0475c5f6",
   "metadata": {
    "scrolled": true
   },
   "outputs": [],
   "source": [
    "list(ords_prods_cust_merge)"
   ]
  },
  {
   "cell_type": "code",
   "execution_count": null,
   "id": "0dc50498",
   "metadata": {},
   "outputs": [],
   "source": [
    "# assign new label \"region\" to the states as per wikipedia link https://simple.wikipedia.org/wiki/List_of_regions_of_the_United_States\n",
    "ords_prods_cust_merge.loc[ords_prods_cust_merge['state'].isin(['Maine','New Hampshire', 'Vermont', 'Massachusetts', 'Rhode Island', 'Connecticut', 'New York', 'Pennsylvania', 'New Jersey']), 'region'] = 'Northeast' "
   ]
  },
  {
   "cell_type": "code",
   "execution_count": null,
   "id": "dd03c0f0",
   "metadata": {},
   "outputs": [],
   "source": [
    "ords_prods_cust_merge.loc[ords_prods_cust_merge['state'].isin(['Wisconsin', 'Michigan', 'Illinois', 'Indiana', 'Ohio', 'North Dakota', 'South Dakota', 'Nebraska', 'Kansas', 'Minnesota', 'Iowa', 'Missouri']), 'region'] = 'Midwest' "
   ]
  },
  {
   "cell_type": "code",
   "execution_count": null,
   "id": "993803e8",
   "metadata": {},
   "outputs": [],
   "source": [
    "ords_prods_cust_merge.loc[ords_prods_cust_merge['state'].isin(['Delaware', 'Maryland', 'District of Columbia', 'Virginia', 'West Virginia', 'North Carolina', 'South Carolina', 'Georgia', 'Florida', 'Kentucky', 'Tennessee', 'Mississippi', 'Alabama', 'Oklahoma', 'Texas', 'Arkansas', 'Louisiana']), 'region'] = 'South' "
   ]
  },
  {
   "cell_type": "code",
   "execution_count": null,
   "id": "268bb976",
   "metadata": {},
   "outputs": [],
   "source": [
    "ords_prods_cust_merge.loc[ords_prods_cust_merge['state'].isin(['Idaho', 'Montana', 'Wyoming', 'Nevada', 'Utah', 'Colorado', 'Arizona', 'New Mexico', 'Alaska', 'Washington', 'Oregon', 'California', 'Hawaii']), 'region'] = 'West' "
   ]
  },
  {
   "cell_type": "code",
   "execution_count": null,
   "id": "1ef5420e",
   "metadata": {
    "scrolled": true
   },
   "outputs": [],
   "source": [
    "# checking result\n",
    "ords_prods_cust_merge['region'].value_counts(dropna = False)"
   ]
  },
  {
   "cell_type": "code",
   "execution_count": null,
   "id": "a02c68d4",
   "metadata": {},
   "outputs": [],
   "source": [
    "#finding NaN\n",
    "df_nan = ords_prods_cust_merge[ords_prods_cust_merge['region'].isnull()==True]"
   ]
  },
  {
   "cell_type": "code",
   "execution_count": null,
   "id": "a8aa4eae",
   "metadata": {
    "scrolled": false
   },
   "outputs": [],
   "source": [
    "# locating NaN\n",
    "df_nan['state'].value_counts(dropna=False)"
   ]
  },
  {
   "cell_type": "markdown",
   "id": "06ef7727",
   "metadata": {},
   "source": [
    "going back to the first line of loc() code and correcting \"Conneticut\" into \"Connecticut\""
   ]
  },
  {
   "cell_type": "code",
   "execution_count": null,
   "id": "7893fefe",
   "metadata": {
    "scrolled": true
   },
   "outputs": [],
   "source": [
    "bar_reg1 = sns.barplot(x = 'spender_type', y = 'order_number', hue = 'region', data = ords_prods_cust_merge)"
   ]
  },
  {
   "cell_type": "code",
   "execution_count": null,
   "id": "2d8e160f",
   "metadata": {},
   "outputs": [],
   "source": [
    "bar_reg1.figure.savefig(os.path.join(path, '04 Analysis', 'Visualizations', 'spender_by_region.png'))"
   ]
  },
  {
   "cell_type": "code",
   "execution_count": null,
   "id": "c58cd922",
   "metadata": {
    "scrolled": true
   },
   "outputs": [],
   "source": [
    "bar_reg1a = sns.barplot(x = 'cust_type', y = 'order_number', hue = 'region', data = ords_prods_cust_merge, estimator=sum)"
   ]
  },
  {
   "cell_type": "code",
   "execution_count": null,
   "id": "6c8febcf",
   "metadata": {},
   "outputs": [],
   "source": [
    "bar_reg1a.figure.savefig(os.path.join(path, '04 Analysis', 'Visualizations', 'cust_type_order_sum.png'))"
   ]
  },
  {
   "cell_type": "code",
   "execution_count": null,
   "id": "76fda6ca",
   "metadata": {},
   "outputs": [],
   "source": [
    "bar_reg1b = sns.barplot(x = 'cust_type', y = 'order_number', hue = 'region', data = ords_prods_cust_merge)"
   ]
  },
  {
   "cell_type": "code",
   "execution_count": null,
   "id": "f469f9b1",
   "metadata": {},
   "outputs": [],
   "source": [
    "bar_reg1a.figure.savefig(os.path.join(path, '04 Analysis', 'Visualizations', 'cust_type_by_region.png'))"
   ]
  },
  {
   "cell_type": "code",
   "execution_count": null,
   "id": "bd3abc3f",
   "metadata": {
    "scrolled": false
   },
   "outputs": [],
   "source": [
    "bar_reg = sns.barplot(x = 'spender_type', y = 'avg_item_price', hue = 'region', data = ords_prods_cust_merge)"
   ]
  },
  {
   "cell_type": "code",
   "execution_count": null,
   "id": "7a98777e",
   "metadata": {},
   "outputs": [],
   "source": [
    "bar_reg2 = sns.barplot(data = ords_prods_cust_merge, x = 'region', y = 'avg_item_price', hue = 'spender_type')"
   ]
  },
  {
   "cell_type": "code",
   "execution_count": null,
   "id": "77b088b7",
   "metadata": {},
   "outputs": [],
   "source": [
    "#exclude customers with less than 5 orders (Task 4)\n",
    "ords_prods_cust_merge.loc[ords_prods_cust_merge['max_order']<5, 'less_5_ords'] = 'exclude'"
   ]
  },
  {
   "cell_type": "code",
   "execution_count": null,
   "id": "60abce2c",
   "metadata": {
    "scrolled": true
   },
   "outputs": [],
   "source": [
    "ords_prods_cust_merge['less_5_ords'].value_counts(dropna = False)"
   ]
  },
  {
   "cell_type": "code",
   "execution_count": null,
   "id": "b3163ee4",
   "metadata": {},
   "outputs": [],
   "source": [
    "# creating new data set for CFO with customers having more than 5 orders\n",
    "cfo_ords_prods_cust_merge = ords_prods_cust_merge[ords_prods_cust_merge['less_5_ords'].isnull()==True]"
   ]
  },
  {
   "cell_type": "code",
   "execution_count": null,
   "id": "4fab27f2",
   "metadata": {},
   "outputs": [],
   "source": [
    "cfo_ords_prods_cust_merge.shape"
   ]
  },
  {
   "cell_type": "code",
   "execution_count": null,
   "id": "1dcbf5ba",
   "metadata": {},
   "outputs": [],
   "source": [
    "cfo_ords_prods_cust_merge.to_pickle(os.path.join(path, '02 Data', 'Prepared Data', 'cfo_more5ords_prods_cust_merge.pkl'))"
   ]
  },
  {
   "cell_type": "code",
   "execution_count": null,
   "id": "d3bb3128",
   "metadata": {},
   "outputs": [],
   "source": [
    "# defining age groups\n",
    "ords_prods_cust_merge.loc[ords_prods_cust_merge['age']<25, 'age_group'] = '18-24'"
   ]
  },
  {
   "cell_type": "code",
   "execution_count": null,
   "id": "6f68faa5",
   "metadata": {},
   "outputs": [],
   "source": [
    "ords_prods_cust_merge.loc[(ords_prods_cust_merge['age']>=25) & (ords_prods_cust_merge['age']<35), 'age_group'] = '25-34'"
   ]
  },
  {
   "cell_type": "code",
   "execution_count": null,
   "id": "4d4f7616",
   "metadata": {},
   "outputs": [],
   "source": [
    "ords_prods_cust_merge.loc[(ords_prods_cust_merge['age']>=35) & (ords_prods_cust_merge['age']<45), 'age_group'] = '35-44'"
   ]
  },
  {
   "cell_type": "code",
   "execution_count": null,
   "id": "9fbbbba2",
   "metadata": {},
   "outputs": [],
   "source": [
    "ords_prods_cust_merge.loc[(ords_prods_cust_merge['age']>=45) & (ords_prods_cust_merge['age']<55), 'age_group'] = '45-54'"
   ]
  },
  {
   "cell_type": "code",
   "execution_count": null,
   "id": "02ff68fe",
   "metadata": {},
   "outputs": [],
   "source": [
    "ords_prods_cust_merge.loc[(ords_prods_cust_merge['age']>=55) & (ords_prods_cust_merge['age']<65), 'age_group'] = '55-64'"
   ]
  },
  {
   "cell_type": "code",
   "execution_count": null,
   "id": "2b7071e3",
   "metadata": {},
   "outputs": [],
   "source": [
    "ords_prods_cust_merge.loc[ords_prods_cust_merge['age']>=65, 'age_group'] = 'over 65'"
   ]
  },
  {
   "cell_type": "code",
   "execution_count": null,
   "id": "a0a0d570",
   "metadata": {},
   "outputs": [],
   "source": [
    "# checking result of age groups classification\n",
    "ords_prods_cust_merge['age_group'].value_counts(dropna = False)"
   ]
  },
  {
   "cell_type": "code",
   "execution_count": null,
   "id": "a1832056",
   "metadata": {},
   "outputs": [],
   "source": [
    "# defining income\n",
    "ords_prods_cust_merge.loc[ords_prods_cust_merge['income']<60000, 'income_class'] = 'lower income'"
   ]
  },
  {
   "cell_type": "code",
   "execution_count": null,
   "id": "ee9c27e3",
   "metadata": {},
   "outputs": [],
   "source": [
    "ords_prods_cust_merge.loc[(ords_prods_cust_merge['income']>=60000) & (ords_prods_cust_merge['income']<110000), 'income_class'] = 'regular income'"
   ]
  },
  {
   "cell_type": "code",
   "execution_count": null,
   "id": "aaf81087",
   "metadata": {},
   "outputs": [],
   "source": [
    "ords_prods_cust_merge.loc[ords_prods_cust_merge['income']>=110000, 'income_class'] = 'higher income'"
   ]
  },
  {
   "cell_type": "code",
   "execution_count": null,
   "id": "b29707b0",
   "metadata": {},
   "outputs": [],
   "source": [
    "# check result\n",
    "ords_prods_cust_merge['income_class'].value_counts(dropna = False)"
   ]
  },
  {
   "cell_type": "code",
   "execution_count": null,
   "id": "73215bc8",
   "metadata": {},
   "outputs": [],
   "source": [
    "ords_prods_cust_merge['pers_p_household'].value_counts(dropna = False)"
   ]
  },
  {
   "cell_type": "code",
   "execution_count": null,
   "id": "4eb9ba77",
   "metadata": {},
   "outputs": [],
   "source": [
    "ords_prods_cust_merge.loc[ords_prods_cust_merge['pers_p_household']==1, 'family_status'] = 'Partnership'"
   ]
  },
  {
   "cell_type": "code",
   "execution_count": null,
   "id": "fda89678",
   "metadata": {},
   "outputs": [],
   "source": [
    "ords_prods_cust_merge.loc[ords_prods_cust_merge['pers_p_household']==0, 'family_status'] = 'Single'"
   ]
  },
  {
   "cell_type": "code",
   "execution_count": null,
   "id": "a5c77bab",
   "metadata": {},
   "outputs": [],
   "source": [
    "ords_prods_cust_merge.loc[ords_prods_cust_merge['pers_p_household'].isin([2,3]), 'family_status'] = 'Family'"
   ]
  },
  {
   "cell_type": "code",
   "execution_count": null,
   "id": "a3cfee6a",
   "metadata": {
    "scrolled": false
   },
   "outputs": [],
   "source": [
    "# check result\n",
    "ords_prods_cust_merge['family_status'].value_counts(dropna = False)"
   ]
  },
  {
   "cell_type": "code",
   "execution_count": null,
   "id": "cbe5c99c",
   "metadata": {},
   "outputs": [],
   "source": [
    "# set mark for splitting data 70/30\n",
    "np.random.seed(4)\n",
    "dev = np.random.rand(len(ords_prods_cust_merge)) <= 0.7"
   ]
  },
  {
   "cell_type": "code",
   "execution_count": null,
   "id": "87cbc448",
   "metadata": {},
   "outputs": [],
   "source": [
    "dev"
   ]
  },
  {
   "cell_type": "code",
   "execution_count": null,
   "id": "ba1a0c11",
   "metadata": {},
   "outputs": [],
   "source": [
    "# extract bigger data set 70%\n",
    "big_ords_prods_cust = ords_prods_cust_merge[dev]"
   ]
  },
  {
   "cell_type": "code",
   "execution_count": null,
   "id": "12784e7e",
   "metadata": {},
   "outputs": [],
   "source": [
    "# extract smaller data set 30%\n",
    "ords_prods_cust_merge = ords_prods_cust_merge[~dev]"
   ]
  },
  {
   "cell_type": "code",
   "execution_count": null,
   "id": "1ee3d9d4",
   "metadata": {
    "scrolled": true
   },
   "outputs": [],
   "source": [
    "ords_prods_cust_merge.groupby(['age_group', 'family_status'])['user_id'].nunique().to_frame('user_id').unstack()"
   ]
  },
  {
   "cell_type": "code",
   "execution_count": null,
   "id": "283f05d5",
   "metadata": {
    "scrolled": true
   },
   "outputs": [],
   "source": [
    "ords_prods_cust_merge.shape"
   ]
  },
  {
   "cell_type": "code",
   "execution_count": null,
   "id": "012a0d63",
   "metadata": {},
   "outputs": [],
   "source": [
    "# set customer groups\n",
    "ords_prods_cust_merge.loc[(ords_prods_cust_merge['age_group'].isin(['18-24','25-34','35-44'])) & (ords_prods_cust_merge['family_status']=='Family'), 'cust_profile'] = 'Younger Families'"
   ]
  },
  {
   "cell_type": "code",
   "execution_count": null,
   "id": "3db253c2",
   "metadata": {},
   "outputs": [],
   "source": [
    "ords_prods_cust_merge.loc[(ords_prods_cust_merge['age_group'].isin(['45-54','55-64','over 65'])) & (ords_prods_cust_merge['family_status']=='Family'), 'cust_profile'] = 'Elder Families'"
   ]
  },
  {
   "cell_type": "code",
   "execution_count": null,
   "id": "0d133e8c",
   "metadata": {},
   "outputs": [],
   "source": [
    "ords_prods_cust_merge.loc[(ords_prods_cust_merge['age_group'].isin(['18-24','25-34','35-44'])) & (ords_prods_cust_merge['family_status']=='Partnership'), 'cust_profile'] = 'Younger Pairs'"
   ]
  },
  {
   "cell_type": "code",
   "execution_count": null,
   "id": "66512c5b",
   "metadata": {},
   "outputs": [],
   "source": [
    "ords_prods_cust_merge.loc[(ords_prods_cust_merge['age_group'].isin(['45-54','55-64','over 65'])) & (ords_prods_cust_merge['family_status']=='Partnership'), 'cust_profile'] = 'Elder Pairs'"
   ]
  },
  {
   "cell_type": "code",
   "execution_count": null,
   "id": "315b629a",
   "metadata": {},
   "outputs": [],
   "source": [
    "ords_prods_cust_merge.loc[ords_prods_cust_merge['family_status']=='Single', 'cust_profile'] = 'Single Adult'"
   ]
  },
  {
   "cell_type": "code",
   "execution_count": null,
   "id": "01cf6590",
   "metadata": {},
   "outputs": [],
   "source": [
    "# check result\n",
    "ords_prods_cust_merge['cust_profile'].value_counts(dropna = False)"
   ]
  },
  {
   "cell_type": "code",
   "execution_count": null,
   "id": "d28c4d04",
   "metadata": {},
   "outputs": [],
   "source": [
    "pie_data = ords_prods_cust_merge['cust_profile'].value_counts(dropna = False)"
   ]
  },
  {
   "cell_type": "code",
   "execution_count": null,
   "id": "4cf5d047",
   "metadata": {},
   "outputs": [],
   "source": [
    "pie_data.head()"
   ]
  },
  {
   "cell_type": "code",
   "execution_count": null,
   "id": "56fa19e8",
   "metadata": {
    "scrolled": true
   },
   "outputs": [],
   "source": [
    "# define Seaborn color palette to use\n",
    "palette_color = sns.color_palette('bright')\n",
    "  \n",
    "# plotting data on chart\n",
    "plt.pie(data=pie_data, x='dtype: int64', labels='cust_profile', colors=palette_color, autopct='%.0f%%')\n",
    "  \n",
    "# displaying chart\n",
    "plt.show()"
   ]
  },
  {
   "cell_type": "code",
   "execution_count": null,
   "id": "df775943",
   "metadata": {},
   "outputs": [],
   "source": [
    "result = ords_prods_cust_merge.groupby('cust_profile').agg({'order_frequency':['mean', 'min', 'max'], \n",
    "                                                            'avg_item_price':['mean', 'min', 'max']})\n",
    "\n",
    "print(result)"
   ]
  },
  {
   "cell_type": "code",
   "execution_count": null,
   "id": "cd0a6fa9",
   "metadata": {
    "scrolled": true
   },
   "outputs": [],
   "source": [
    "result.round(2)"
   ]
  },
  {
   "cell_type": "code",
   "execution_count": null,
   "id": "905e9a76",
   "metadata": {},
   "outputs": [],
   "source": [
    "n=5"
   ]
  },
  {
   "cell_type": "code",
   "execution_count": null,
   "id": "711e6167",
   "metadata": {},
   "outputs": [],
   "source": [
    "df_test = ords_prods_cust_merge.head(int(len(ords_prods_cust_merge)*(n/9719609)))"
   ]
  },
  {
   "cell_type": "code",
   "execution_count": null,
   "id": "ed7b580f",
   "metadata": {},
   "outputs": [],
   "source": [
    "# create stacked bar chart for departments by loyality status\n",
    "df_test.groupby('department_id')['cust_type'].value_counts().unstack().plot(kind='bar', stacked=True, color=['green', 'blue', 'red'])\n",
    "# Add Title and Labels\n",
    "plt.title('departments by loyality')\n",
    "plt.xlabel('department_id')\n",
    "plt.ylabel('cust_type')"
   ]
  },
  {
   "cell_type": "code",
   "execution_count": null,
   "id": "deb8646e",
   "metadata": {},
   "outputs": [],
   "source": [
    "# create stacked bar chart for departments by loyality status\n",
    "dept_loy_stacked = ords_prods_cust_merge.groupby('department_id')['loyalty_flag'].value_counts().unstack().plot(kind='bar', stacked=True, color=['green', 'blue', 'red'])\n",
    "# Add Title and Labels\n",
    "plt.title('departments by loyality')\n",
    "plt.xlabel('department_id')\n",
    "plt.ylabel('loyalty_flag')"
   ]
  },
  {
   "cell_type": "code",
   "execution_count": null,
   "id": "e3e733ee",
   "metadata": {},
   "outputs": [],
   "source": [
    "dept_loy_stacked.figure.savefig(os.path.join(path, '04 Analysis', 'Visualizations', 'dept_loy_stacked1.png'))"
   ]
  },
  {
   "cell_type": "code",
   "execution_count": null,
   "id": "542eb4d0",
   "metadata": {},
   "outputs": [],
   "source": [
    "df_mean=df_test.groupby(['loyalty_flag']).agg({'avg_item_price':'mean'})\n",
    "plt.bar(df_mean.index,df_mean['avg_item_price'], color=['green', 'blue', 'red'])\n",
    "# Add Title and Labels\n",
    "plt.title('average item price by loyalty')\n",
    "plt.xlabel('loyalty_flag')\n",
    "plt.ylabel('avg_item_price')\n",
    "plt.show()"
   ]
  },
  {
   "cell_type": "code",
   "execution_count": null,
   "id": "5add37a7",
   "metadata": {},
   "outputs": [],
   "source": [
    "\n",
    "df_mean1=ords_prods_cust_merge.groupby(['loyalty_flag']).agg({'avg_item_price':'mean'})\n",
    "avg_item_bar = plt.bar(df_mean1.index,df_mean1['avg_item_price'], color=['green', 'blue', 'red'])\n",
    "# Add Title and Labels\n",
    "plt.title('average item price by loyalty')\n",
    "plt.xlabel('loyalty_flag')\n",
    "plt.ylabel('avg_item_price')\n",
    "plt.show()"
   ]
  },
  {
   "cell_type": "code",
   "execution_count": null,
   "id": "df183ffd",
   "metadata": {},
   "outputs": [],
   "source": [
    "avg_item_bar.figure.savefig(os.path.join(path, '04 Analysis', 'Visualizations', 'avg_item_bar.png'))"
   ]
  },
  {
   "cell_type": "code",
   "execution_count": null,
   "id": "3db55a49",
   "metadata": {
    "scrolled": true
   },
   "outputs": [],
   "source": [
    "# create stacked bar chart for departments by region\n",
    "dept_state_stacked = ords_prods_cust_merge.groupby('department_id')['region'].value_counts().unstack().plot(kind='bar', stacked=True, color=['orange', 'red', 'blue', 'green'])\n",
    "# Add Title and Labels\n",
    "plt.title('departments by state')\n",
    "plt.xlabel('department_id')\n",
    "plt.ylabel('region')"
   ]
  },
  {
   "cell_type": "code",
   "execution_count": null,
   "id": "be1ca92d",
   "metadata": {},
   "outputs": [],
   "source": [
    "dept_state_stacked.figure.savefig(os.path.join(path, '04 Analysis', 'Visualizations', 'dept_state_stacked.png'))"
   ]
  },
  {
   "cell_type": "code",
   "execution_count": null,
   "id": "089a379a",
   "metadata": {
    "scrolled": true
   },
   "outputs": [],
   "source": [
    "# create scatterplot for relation age/ familiy status\n",
    "sns.scatterplot(\n",
    "    data=df_test, \n",
    "    x='age', \n",
    "    y='order_number', \n",
    "    estimator=sum,\n",
    "    hue='family_status',\n",
    "    style='loyalty_flag',\n",
    "    palette='Paired_r'\n",
    "    )\n",
    "\n",
    "plt.title('relation age - family status - loyalty')\n",
    "plt.xlabel('age')\n",
    "plt.ylabel('order_number_sum')\n",
    "plt.legend(bbox_to_anchor=(1.05, 1), loc='upper left', borderaxespad=0)\n",
    "\n",
    "plt.show()"
   ]
  },
  {
   "cell_type": "code",
   "execution_count": null,
   "id": "b5d7e930",
   "metadata": {},
   "outputs": [],
   "source": [
    "# create scatterplot for relation age/ familiy status\n",
    "scatter1 = sns.scatterplot(\n",
    "    data=ords_prods_cust_merge, \n",
    "    x='age_group', \n",
    "    y='order_number', \n",
    "    hue='family_status',\n",
    "    style='loyalty_flag'\n",
    "    )\n",
    "\n",
    "plt.title('relation age - family status - loyalty')\n",
    "plt.xlabel('age')\n",
    "plt.ylabel('order_number_sum')\n",
    "plt.legend(bbox_to_anchor=(1.05, 1), loc='upper left', borderaxespad=0)\n",
    "\n",
    "plt.show()"
   ]
  },
  {
   "cell_type": "code",
   "execution_count": null,
   "id": "6a0a80d1",
   "metadata": {},
   "outputs": [],
   "source": [
    "scatter1.figure.savefig(os.path.join(path, '04 Analysis', 'Visualizations', 'dept_state_stacked.png'))"
   ]
  },
  {
   "cell_type": "code",
   "execution_count": null,
   "id": "815bf2a3",
   "metadata": {},
   "outputs": [],
   "source": [
    "scat_df = ords_prods_cust_merge.groupby(['age_group', 'family_status', 'loyalty_flag'])['order_number'].nunique().to_frame('order_number').unstack()"
   ]
  },
  {
   "cell_type": "code",
   "execution_count": null,
   "id": "c59bac30",
   "metadata": {},
   "outputs": [],
   "source": [
    "# create stacked bar chart for departments by family status\n",
    "ords_prods_cust_merge.groupby('department_id')['family_status'].value_counts().unstack().plot(kind='bar', stacked=True, color=['green', 'blue', 'red','orange','pink'])\n",
    "# Add Title and Labels\n",
    "plt.title('departments by family status')\n",
    "plt.xlabel('department_id')\n",
    "plt.ylabel('family_status')"
   ]
  },
  {
   "cell_type": "code",
   "execution_count": null,
   "id": "1f2669e7",
   "metadata": {},
   "outputs": [],
   "source": [
    "scatter1.figure.savefig(os.path.join(path, '04 Analysis', 'Visualizations', 'dept_state_stacked.png'))"
   ]
  },
  {
   "cell_type": "markdown",
   "id": "ac6927c0",
   "metadata": {},
   "source": [
    "splitting datasets into regions"
   ]
  },
  {
   "cell_type": "code",
   "execution_count": null,
   "id": "c179e65d",
   "metadata": {},
   "outputs": [],
   "source": [
    "# filter data for southern region in new data set for single charts\n",
    "ords_prods_cust_merge_south = ords_prods_cust_merge[ords_prods_cust_merge['region']=='South']"
   ]
  },
  {
   "cell_type": "code",
   "execution_count": null,
   "id": "2ad6a766",
   "metadata": {},
   "outputs": [],
   "source": [
    "ords_prods_cust_merge_south.head()"
   ]
  },
  {
   "cell_type": "code",
   "execution_count": null,
   "id": "f551502a",
   "metadata": {},
   "outputs": [],
   "source": [
    "# filter data for midwestern region in new data set for single charts\n",
    "ords_prods_cust_merge_mw = ords_prods_cust_merge[ords_prods_cust_merge['region']=='Midwest']"
   ]
  },
  {
   "cell_type": "code",
   "execution_count": null,
   "id": "6e27a2bc",
   "metadata": {},
   "outputs": [],
   "source": [
    "ords_prods_cust_merge_mw.head()"
   ]
  },
  {
   "cell_type": "code",
   "execution_count": null,
   "id": "170ada76",
   "metadata": {},
   "outputs": [],
   "source": [
    "# filter data for western region in new data set for single charts\n",
    "ords_prods_cust_merge_west = ords_prods_cust_merge[ords_prods_cust_merge['region']=='West']"
   ]
  },
  {
   "cell_type": "code",
   "execution_count": null,
   "id": "85ac6f17",
   "metadata": {},
   "outputs": [],
   "source": [
    "ords_prods_cust_merge_west.head()"
   ]
  },
  {
   "cell_type": "code",
   "execution_count": null,
   "id": "cb99e1d6",
   "metadata": {},
   "outputs": [],
   "source": [
    "# filter data for northeastern region in new data set for single charts\n",
    "ords_prods_cust_merge_ne = ords_prods_cust_merge[ords_prods_cust_merge['region']=='Northeast']"
   ]
  },
  {
   "cell_type": "code",
   "execution_count": null,
   "id": "0746bc43",
   "metadata": {},
   "outputs": [],
   "source": [
    "ords_prods_cust_merge_ne.head()"
   ]
  },
  {
   "cell_type": "markdown",
   "id": "91ce32ff",
   "metadata": {},
   "source": [
    "## repeat some charts by regions"
   ]
  },
  {
   "cell_type": "markdown",
   "id": "c4e814a3",
   "metadata": {},
   "source": [
    "- South"
   ]
  },
  {
   "cell_type": "code",
   "execution_count": null,
   "id": "f4f7082e",
   "metadata": {},
   "outputs": [],
   "source": [
    "# orders South - bar chart departments\n",
    "bar_dept_south = sns.barplot(x = 'department_id', y = 'order_number', data = ords_prods_cust_merge_south, color='blue', estimator=sum).set(title='SOUTH - departments by number of orders')\n",
    "plt.savefig(os.path.join(path, '04 Analysis', 'Visualizations', 'bar_dept_south.png'))"
   ]
  },
  {
   "cell_type": "code",
   "execution_count": null,
   "id": "4e5cfc84",
   "metadata": {
    "scrolled": true
   },
   "outputs": [],
   "source": [
    "# create stacked bar chart for departments by customer type south\n",
    "stsacked_bar_dept_south = ords_prods_cust_merge_south.groupby('department_id')['cust_type'].value_counts().unstack().plot(kind='bar', stacked=True, color=['mediumblue', 'royalblue','lightsteelblue'])\n",
    "# Add Title and Labels\n",
    "plt.title('SOUTH - departments by customer_type')\n",
    "plt.xlabel('department_id')\n",
    "plt.ylabel('customer_type')"
   ]
  },
  {
   "cell_type": "code",
   "execution_count": null,
   "id": "8a668db1",
   "metadata": {},
   "outputs": [],
   "source": [
    "stsacked_bar_dept_south.figure.savefig(os.path.join(path, '04 Analysis', 'Visualizations', 'stacked_bar_dept_south.png'))"
   ]
  },
  {
   "cell_type": "code",
   "execution_count": null,
   "id": "4fb7a84e",
   "metadata": {},
   "outputs": [],
   "source": [
    "# bar chart customer profiles south\n",
    "bar_cust_south = sns.barplot(x = 'cust_profile', y = 'order_number', data = ords_prods_cust_merge_south, color='blue', estimator=sum).set(title='SOUTH - departments by number of orders')\n",
    "plt.savefig(os.path.join(path, '04 Analysis', 'Visualizations', 'bar_dept_south.png'))"
   ]
  },
  {
   "cell_type": "code",
   "execution_count": null,
   "id": "0dc58b53",
   "metadata": {},
   "outputs": [],
   "source": [
    "# Create histogram by customer groups\n",
    "hist_cust_south = sns.displot(data=ords_prods_cust_merge_south, x=\"cust_profile\", color='blue').set(title='SOUTH - customer profiles by count')\n",
    "plt.xticks(rotation=45, ha='right')\n",
    "plt.show()"
   ]
  },
  {
   "cell_type": "code",
   "execution_count": null,
   "id": "27e594ca",
   "metadata": {},
   "outputs": [],
   "source": [
    "hist_cust_south.figure.savefig(os.path.join(path, '04 Analysis', 'Visualizations', 'hist_cust_south.png'))"
   ]
  },
  {
   "cell_type": "code",
   "execution_count": null,
   "id": "901ad184",
   "metadata": {},
   "outputs": [],
   "source": [
    "sns.countplot( data = ords_prods_cust_merge_south, x = 'cust_profile', color='blue',\n",
    "              order = ords_prods_cust_merge_south['cust_profile'].value_counts().index).set(title='SOUTH - customer profiles by count')\n",
    "plt.xticks(rotation=45, ha='right')\n",
    "plt.tight_layout()\n",
    "plt.savefig(os.path.join(path, '04 Analysis', 'Visualizations', 'hist_cust_south1.png'))\n",
    "plt.show()\n"
   ]
  },
  {
   "cell_type": "code",
   "execution_count": null,
   "id": "ea494141",
   "metadata": {},
   "outputs": [],
   "source": [
    "# average order value by customer group\n",
    "ords_prods_cust_merge_south.groupby(['cust_profile', 'order_number'])."
   ]
  },
  {
   "cell_type": "code",
   "execution_count": null,
   "id": "72092e76",
   "metadata": {},
   "outputs": [],
   "source": [
    "# busiest day of week orders_day_of_week\n",
    "sns.countplot(x = 'orders_day_of_week', hue='cust_profile', data=ords_prods_cust_merge_south).set_title('SOUTH - busiest day by profile')\n",
    "plt.savefig(os.path.join(path, '04 Analysis', 'Visualizations', 'day_profile_south.png'))"
   ]
  },
  {
   "cell_type": "code",
   "execution_count": null,
   "id": "1b9f8561",
   "metadata": {},
   "outputs": [],
   "source": [
    "# order hour of day \n",
    "sns.countplot(x = 'order_time_of_day', hue='cust_profile', data=ords_prods_cust_merge_south).set_title('SOUTH - frequent hours by profile')\n",
    "plt.savefig(os.path.join(path, '04 Analysis', 'Visualizations', 'hrs_profile_south.png'))"
   ]
  },
  {
   "cell_type": "code",
   "execution_count": null,
   "id": "ffeb4bee",
   "metadata": {},
   "outputs": [],
   "source": [
    "# spending flag with customer\n",
    "sns.countplot(x = 'cust_profile', hue='spender_type', data=ords_prods_cust_merge_south, order=ords_prods_cust_merge_south['cust_profile'].value_counts().sort_values(ascending=False).index).set_title('SOUTH - spender type by profile')\n",
    "plt.savefig(os.path.join(path, '04 Analysis', 'Visualizations', 'type_profile_south.png'))"
   ]
  },
  {
   "cell_type": "code",
   "execution_count": null,
   "id": "7f50b912",
   "metadata": {},
   "outputs": [],
   "source": [
    "# order frequency - customer type by group\n",
    "sns.countplot(x = 'cust_profile', hue='cust_type', data=ords_prods_cust_merge_south, order=ords_prods_cust_merge_south['cust_profile'].value_counts().sort_values(ascending=True).index).set_title('SOUTH - customer type/frequency by profile')\n",
    "plt.savefig(os.path.join(path, '04 Analysis', 'Visualizations', 'order_frequency_profile_south.png'))"
   ]
  },
  {
   "cell_type": "code",
   "execution_count": null,
   "id": "b64798f0",
   "metadata": {},
   "outputs": [],
   "source": [
    "# create stacked bar chart for departments by family status\n",
    "ords_prods_cust_merge_south.groupby('department_id')['cust_profile'].value_counts().unstack().plot(kind='bar', stacked=True, color=['navy', \"blue\", \"royalblue\", \"cornflowerblue\", \"lightsteelblue\"])\n",
    "# Add Title and Labels\n",
    "plt.title('SOUTH - departments by customer profile')\n",
    "plt.xlabel('department_id')\n",
    "plt.ylabel('cust_profile')\n",
    "plt.savefig(os.path.join(path, '04 Analysis', 'Visualizations', 'dept_profile_south.png'))"
   ]
  },
  {
   "cell_type": "markdown",
   "id": "56e220ed",
   "metadata": {},
   "source": [
    "- Midwest"
   ]
  },
  {
   "cell_type": "code",
   "execution_count": null,
   "id": "74e104db",
   "metadata": {},
   "outputs": [],
   "source": [
    "# orders midwest - bar chart departments\n",
    "bar_dept_mw = sns.barplot(x = 'department_id', y = 'order_number', data = ords_prods_cust_merge_mw, color='orange', estimator=sum).set(title='MIDWEST - departments by number of orders')\n",
    "plt.savefig(os.path.join(path, '04 Analysis', 'Visualizations', 'bar_dept_mw.png'))"
   ]
  },
  {
   "cell_type": "code",
   "execution_count": null,
   "id": "ff5386d2",
   "metadata": {},
   "outputs": [],
   "source": [
    "# create stacked bar chart for departments by customer type midwest\n",
    "stacked_bar_dept_mw = ords_prods_cust_merge_mw.groupby('department_id')['cust_type'].value_counts().unstack().plot(kind='bar', stacked=True, color=['darkorange', 'orange','navajowhite'])\n",
    "# Add Title and Labels\n",
    "plt.title('MIDWEST - departments by customer_type')\n",
    "plt.xlabel('department_id')\n",
    "plt.ylabel('customer_type')"
   ]
  },
  {
   "cell_type": "code",
   "execution_count": null,
   "id": "cabcea4a",
   "metadata": {},
   "outputs": [],
   "source": [
    "stacked_bar_dept_mw.figure.savefig(os.path.join(path, '04 Analysis', 'Visualizations', 'stacked_bar_dept_mw.png'))"
   ]
  },
  {
   "cell_type": "code",
   "execution_count": null,
   "id": "320ad920",
   "metadata": {},
   "outputs": [],
   "source": [
    "order = ords_prods_cust_merge_mw.groupby('cust_profile').mean().sort_values('salary_in_usd').index"
   ]
  },
  {
   "cell_type": "code",
   "execution_count": null,
   "id": "608629c6",
   "metadata": {
    "scrolled": true
   },
   "outputs": [],
   "source": [
    "# Create histogram by customer groups\n",
    "hist_cust_mw = sns.displot(data=ords_prods_cust_merge_mw, x=\"cust_profile\", color='orange').set(title='MIDWEST - customer profiles by count')\n",
    "plt.xticks(rotation=45, ha='right')\n",
    "plt.show()"
   ]
  },
  {
   "cell_type": "code",
   "execution_count": null,
   "id": "b653d31c",
   "metadata": {},
   "outputs": [],
   "source": [
    "hist_cust_mw.figure.savefig(os.path.join(path, '04 Analysis', 'Visualizations', 'hist_cust_nw.png'))"
   ]
  },
  {
   "cell_type": "code",
   "execution_count": null,
   "id": "ff42205f",
   "metadata": {
    "scrolled": true
   },
   "outputs": [],
   "source": [
    "sns.countplot( data = ords_prods_cust_merge_mw, x = 'cust_profile', color='orange',\n",
    "              order = ords_prods_cust_merge_mw['cust_profile'].value_counts().index).set(title='MIDWEST - customer profiles by count')\n",
    "plt.xticks(rotation=45, ha='right')\n",
    "plt.tight_layout()\n",
    "plt.savefig(os.path.join(path, '04 Analysis', 'Visualizations', 'hist_cust_mw1.png'))\n",
    "plt.show()\n"
   ]
  },
  {
   "cell_type": "code",
   "execution_count": null,
   "id": "566b413f",
   "metadata": {},
   "outputs": [],
   "source": [
    "# busiest day of week orders_day_of_week\n",
    "sns.countplot(x = 'orders_day_of_week', hue='cust_profile', data=ords_prods_cust_merge_mw).set_title('MIDWEST - busiest day by profile')\n",
    "plt.savefig(os.path.join(path, '04 Analysis', 'Visualizations', 'day_profile_mw.png'))"
   ]
  },
  {
   "cell_type": "code",
   "execution_count": null,
   "id": "2eb2bfb7",
   "metadata": {
    "scrolled": true
   },
   "outputs": [],
   "source": [
    "# order hour of day \n",
    "sns.countplot(x = 'order_time_of_day', hue='cust_profile', data=ords_prods_cust_merge_mw).set_title('MIDWEST - frequent hours by profile')\n",
    "plt.savefig(os.path.join(path, '04 Analysis', 'Visualizations', 'hrs_profile_mw.png'))"
   ]
  },
  {
   "cell_type": "code",
   "execution_count": null,
   "id": "de34655b",
   "metadata": {},
   "outputs": [],
   "source": [
    "# spending flag with customer\n",
    "sns.countplot(x = 'cust_profile', hue='spender_type', data=ords_prods_cust_merge_mw, order=ords_prods_cust_merge_mw['cust_profile'].value_counts().sort_values(ascending=False).index).set_title('MIDWEST - spender type by profile')\n",
    "plt.savefig(os.path.join(path, '04 Analysis', 'Visualizations', 'type_profile_mw.png'))"
   ]
  },
  {
   "cell_type": "code",
   "execution_count": null,
   "id": "a529183e",
   "metadata": {},
   "outputs": [],
   "source": [
    "# order frequency - customer type by group\n",
    "sns.countplot(x = 'cust_profile', hue='cust_type', data=ords_prods_cust_merge_mw, order=ords_prods_cust_merge_mw['cust_profile'].value_counts().sort_values(ascending=True).index).set_title('MIDWEST - customer type/frequency by profile')\n",
    "plt.savefig(os.path.join(path, '04 Analysis', 'Visualizations', 'order_frequency_profile_mw.png'))"
   ]
  },
  {
   "cell_type": "code",
   "execution_count": null,
   "id": "9e32ed40",
   "metadata": {},
   "outputs": [],
   "source": [
    "# create stacked bar chart for departments by family status\n",
    "ords_prods_cust_merge_mw.groupby('department_id')['cust_profile'].value_counts().unstack().plot(kind='bar', stacked=True, color=['darkgoldenrod', \"goldenrod\", \"orange\", \"moccasin\", \"antiquewhite\"])\n",
    "# Add Title and Labels\n",
    "plt.title('MIDWEST - departments by customer profile')\n",
    "plt.xlabel('department_id')\n",
    "plt.ylabel('cust_profile')\n",
    "plt.savefig(os.path.join(path, '04 Analysis', 'Visualizations', 'dept_profile_mw.png'))"
   ]
  },
  {
   "cell_type": "markdown",
   "id": "c5565497",
   "metadata": {},
   "source": [
    "- West"
   ]
  },
  {
   "cell_type": "code",
   "execution_count": null,
   "id": "6c68996c",
   "metadata": {},
   "outputs": [],
   "source": [
    "# orders west - bar chart departments\n",
    "bar_dept_west = sns.barplot(x = 'department_id', y = 'order_number', data = ords_prods_cust_merge_west, color='green', estimator=sum).set(title='WEST - departments by number of orders')\n",
    "plt.savefig(os.path.join(path, '04 Analysis', 'Visualizations', 'bar_dept_west.png'))"
   ]
  },
  {
   "cell_type": "code",
   "execution_count": null,
   "id": "dab7c5ac",
   "metadata": {},
   "outputs": [],
   "source": [
    "# create stacked bar chart for departments by customer type west\n",
    "stacked_bar_dept_west = ords_prods_cust_merge_west.groupby('department_id')['cust_type'].value_counts().unstack().plot(kind='bar', stacked=True, color=['green', 'limegreen','lightgreen'])\n",
    "# Add Title and Labels\n",
    "plt.title('WEST - departments by customer_type')\n",
    "plt.xlabel('department_id')\n",
    "plt.ylabel('customer_type')"
   ]
  },
  {
   "cell_type": "code",
   "execution_count": null,
   "id": "9faf3952",
   "metadata": {},
   "outputs": [],
   "source": [
    "stacked_bar_dept_west.figure.savefig(os.path.join(path, '04 Analysis', 'Visualizations', 'stacked_bar_dept_west.png'))"
   ]
  },
  {
   "cell_type": "code",
   "execution_count": null,
   "id": "bfa86635",
   "metadata": {},
   "outputs": [],
   "source": [
    "# Create histogram by customer groups\n",
    "myVector = (['Younger Pairs', 'Younger Families', 'Single Adult', 'Elder Pairs', 'Elder Families'])\n",
    "hist_cust_west = sns.displot(data=ords_prods_cust_merge_west, x=\"cust_profile\", color='green',col_order='myVector').set(title='WEST - customer profiles by count')\n",
    "plt.xticks(rotation=45, ha='right')\n",
    "plt.show()"
   ]
  },
  {
   "cell_type": "code",
   "execution_count": null,
   "id": "ea633c33",
   "metadata": {},
   "outputs": [],
   "source": [
    "hist_cust_west.figure.savefig(os.path.join(path, '04 Analysis', 'Visualizations', 'hist_cust_west.png'))"
   ]
  },
  {
   "cell_type": "code",
   "execution_count": null,
   "id": "92267704",
   "metadata": {},
   "outputs": [],
   "source": [
    "sns.countplot( data = ords_prods_cust_merge_west, x = 'cust_profile', color='limegreen',\n",
    "              order = ords_prods_cust_merge_west['cust_profile'].value_counts().index).set(title='WEST - customer profiles by count')\n",
    "plt.xticks(rotation=45, ha='right')\n",
    "plt.tight_layout()\n",
    "plt.savefig(os.path.join(path, '04 Analysis', 'Visualizations', 'hist_cust_west1.png'))\n",
    "plt.show()\n"
   ]
  },
  {
   "cell_type": "code",
   "execution_count": null,
   "id": "3354b196",
   "metadata": {},
   "outputs": [],
   "source": [
    "# busiest day of week orders_day_of_week\n",
    "sns.countplot(x = 'orders_day_of_week', hue='cust_profile', data=ords_prods_cust_merge_west).set_title('WEST - busiest day by profile')\n",
    "plt.savefig(os.path.join(path, '04 Analysis', 'Visualizations', 'day_profile_west.png'))"
   ]
  },
  {
   "cell_type": "code",
   "execution_count": null,
   "id": "9b5cb0ca",
   "metadata": {},
   "outputs": [],
   "source": [
    "# order hour of day \n",
    "sns.countplot(x = 'order_time_of_day', hue='cust_profile', data=ords_prods_cust_merge_west).set_title('WEST - frequent hours by profile')\n",
    "plt.savefig(os.path.join(path, '04 Analysis', 'Visualizations', 'hrs_profile_west.png'))"
   ]
  },
  {
   "cell_type": "code",
   "execution_count": null,
   "id": "9893c928",
   "metadata": {},
   "outputs": [],
   "source": [
    "# spending flag with customer\n",
    "sns.countplot(x = 'cust_profile', hue='spender_type', data=ords_prods_cust_merge_west, order=ords_prods_cust_merge_west['cust_profile'].value_counts().sort_values(ascending=False).index).set_title('WEST - spender type by profile')\n",
    "plt.savefig(os.path.join(path, '04 Analysis', 'Visualizations', 'type_profile_west.png'))"
   ]
  },
  {
   "cell_type": "code",
   "execution_count": null,
   "id": "9793b384",
   "metadata": {},
   "outputs": [],
   "source": [
    "# order frequency - customer type by group\n",
    "sns.countplot(x = 'cust_profile', hue='cust_type', data=ords_prods_cust_merge_west, order=ords_prods_cust_merge_west['cust_profile'].value_counts().sort_values(ascending=True).index).set_title('WEST - customer type/frequency by profile')\n",
    "plt.savefig(os.path.join(path, '04 Analysis', 'Visualizations', 'order_frequency_profile_west.png'))"
   ]
  },
  {
   "cell_type": "code",
   "execution_count": null,
   "id": "d6812fb2",
   "metadata": {},
   "outputs": [],
   "source": [
    "# create stacked bar chart for departments by family status\n",
    "ords_prods_cust_merge_west.groupby('department_id')['cust_profile'].value_counts().unstack().plot(kind='bar', stacked=True, color=['darkgreen', \"forestgreen\", \"limegreen\", \"mediumseagreen\", \"palegreen\"])\n",
    "# Add Title and Labels\n",
    "plt.title('WEST - departments by customer profile')\n",
    "plt.xlabel('department_id')\n",
    "plt.ylabel('cust_profile')\n",
    "plt.savefig(os.path.join(path, '04 Analysis', 'Visualizations', 'dept_profile_west.png'))"
   ]
  },
  {
   "cell_type": "markdown",
   "id": "7d5b0173",
   "metadata": {},
   "source": [
    "- Northeast"
   ]
  },
  {
   "cell_type": "code",
   "execution_count": null,
   "id": "43b1257f",
   "metadata": {},
   "outputs": [],
   "source": [
    "# orders northeast - bar chart departments\n",
    "bar_dept_ne = sns.barplot(x = 'department_id', y = 'order_number', data = ords_prods_cust_merge_ne, color='red', estimator=sum).set(title='NORTHEAST - departments by number of orders')\n",
    "plt.savefig(os.path.join(path, '04 Analysis', 'Visualizations', 'bar_dept_ne.png'))"
   ]
  },
  {
   "cell_type": "code",
   "execution_count": null,
   "id": "bcbef434",
   "metadata": {},
   "outputs": [],
   "source": [
    "# create stacked bar chart for departments by customer type northeast\n",
    "stacked_bar_dept_ne = ords_prods_cust_merge_ne.groupby('department_id')['cust_type'].value_counts().unstack().plot(kind='bar', stacked=True, color=['darkred', 'firebrick','indianred'])\n",
    "# Add Title and Labels\n",
    "plt.title('NORTHEAST - departments by customer_type')\n",
    "plt.xlabel('department_id')\n",
    "plt.ylabel('customer_type')"
   ]
  },
  {
   "cell_type": "code",
   "execution_count": null,
   "id": "da814d5a",
   "metadata": {},
   "outputs": [],
   "source": [
    "stacked_bar_dept_ne.figure.savefig(os.path.join(path, '04 Analysis', 'Visualizations', 'stacked_bar_dept_ne.png'))"
   ]
  },
  {
   "cell_type": "code",
   "execution_count": null,
   "id": "c7ceef12",
   "metadata": {},
   "outputs": [],
   "source": [
    "# Create histogram by customer groups\n",
    "sns.countplot( data = ords_prods_cust_merge_ne, x = 'cust_profile', color='firebrick',\n",
    "              order = ords_prods_cust_merge_ne['cust_profile'].value_counts().index).set(title='NORTHEAST - customer profiles by count')\n",
    "plt.xticks(rotation=45, ha='right')\n",
    "plt.tight_layout()\n",
    "plt.savefig(os.path.join(path, '04 Analysis', 'Visualizations', 'hist_cust_ne.png'))\n",
    "plt.show()\n"
   ]
  },
  {
   "cell_type": "code",
   "execution_count": null,
   "id": "72babbe7",
   "metadata": {},
   "outputs": [],
   "source": [
    "# try to find order value by \n",
    "ne1 = ords_prods_cust_merge_ne.groupby(['cust_profile','order_number'])['prices'].agg('sum','mean')\n",
    "print(ne1)"
   ]
  },
  {
   "cell_type": "code",
   "execution_count": null,
   "id": "37c61eb6",
   "metadata": {},
   "outputs": [],
   "source": [
    "bar = ords_prods_merge['orders_day_of_week'].value_counts().sort_index().plot.bar(color='green').set_title('Orders by Day of Week')"
   ]
  },
  {
   "cell_type": "code",
   "execution_count": null,
   "id": "925fe2a7",
   "metadata": {},
   "outputs": [],
   "source": [
    "# busiest day of week orders_day_of_week\n",
    "sns.countplot(x = 'orders_day_of_week', hue='cust_profile', data=ords_prods_cust_merge_ne).set_title('NORTHEAST - busiest day by profile')\n",
    "plt.savefig(os.path.join(path, '04 Analysis', 'Visualizations', 'day_profile_ne.png'))"
   ]
  },
  {
   "cell_type": "code",
   "execution_count": null,
   "id": "31f97731",
   "metadata": {},
   "outputs": [],
   "source": [
    "# order hour of day \n",
    "sns.countplot(x = 'order_time_of_day', hue='cust_profile', data=ords_prods_cust_merge_ne).set_title('NORTHEST - frequent hours by profile')\n",
    "plt.savefig(os.path.join(path, '04 Analysis', 'Visualizations', 'hrs_profile_ne.png'))"
   ]
  },
  {
   "cell_type": "code",
   "execution_count": null,
   "id": "187ea721",
   "metadata": {},
   "outputs": [],
   "source": [
    "# spending flag with customer\n",
    "sns.countplot(x = 'spender_type', hue='cust_profile', data=ords_prods_cust_merge_ne, order=ords_prods_cust_merge_ne['spender_type'].value_counts(ascending=True).index).set_title('NORTHEST - spender type by profile')\n",
    "plt.savefig(os.path.join(path, '04 Analysis', 'Visualizations', 'type_profile_ne.png'))"
   ]
  },
  {
   "cell_type": "code",
   "execution_count": null,
   "id": "1077d04b",
   "metadata": {},
   "outputs": [],
   "source": [
    "# spending flag with customer\n",
    "sns.countplot(x = 'cust_profile', hue='spender_type', data=ords_prods_cust_merge_ne, order=ords_prods_cust_merge_ne['cust_profile'].value_counts().sort_values(ascending=False).index).set_title('NORTHEST - spender type by profile')\n",
    "plt.savefig(os.path.join(path, '04 Analysis', 'Visualizations', 'typeII_profile_ne.png'))"
   ]
  },
  {
   "cell_type": "code",
   "execution_count": null,
   "id": "46b19654",
   "metadata": {},
   "outputs": [],
   "source": [
    "# order frequency - customer type by group\n",
    "sns.countplot(x = 'cust_profile', hue='cust_type', data=ords_prods_cust_merge_ne, order=ords_prods_cust_merge_ne['cust_profile'].value_counts().sort_values(ascending=True).index).set_title('NORTHEST - customer type/frequency by profile')\n",
    "plt.savefig(os.path.join(path, '04 Analysis', 'Visualizations', 'order_frequency_profile_ne.png'))"
   ]
  },
  {
   "cell_type": "code",
   "execution_count": null,
   "id": "40447f09",
   "metadata": {},
   "outputs": [],
   "source": [
    "# create stacked bar chart for departments by family status\n",
    "ords_prods_cust_merge_ne.groupby('department_id')['cust_profile'].value_counts().unstack().plot(kind='bar', stacked=True, color=['darkred', \"firebrick\", \"tomato\", \"salmon\", \"pink\"])\n",
    "# Add Title and Labels\n",
    "plt.title('NORTHEAST - departments by customer profile')\n",
    "plt.xlabel('department_id')\n",
    "plt.ylabel('cust_profile')\n",
    "plt.savefig(os.path.join(path, '04 Analysis', 'Visualizations', 'dept_profile_ne.png'))"
   ]
  },
  {
   "cell_type": "code",
   "execution_count": null,
   "id": "29f004d4",
   "metadata": {},
   "outputs": [],
   "source": [
    "# create stacked bar chart for departments by customer type west\n",
    "stacked_bar_dept_west = ords_prods_cust_merge_west.groupby('department_id')['cust_type'].value_counts().unstack().plot(kind='bar', stacked=True, color=['green', 'limegreen','lightgreen'])\n",
    "# Add Title and Labels\n",
    "plt.title('WEST - departments by customer_type')\n",
    "plt.xlabel('department_id')\n",
    "plt.ylabel('customer_type')"
   ]
  }
 ],
 "metadata": {
  "kernelspec": {
   "display_name": "Python 3 (ipykernel)",
   "language": "python",
   "name": "python3"
  },
  "language_info": {
   "codemirror_mode": {
    "name": "ipython",
    "version": 3
   },
   "file_extension": ".py",
   "mimetype": "text/x-python",
   "name": "python",
   "nbconvert_exporter": "python",
   "pygments_lexer": "ipython3",
   "version": "3.9.13"
  }
 },
 "nbformat": 4,
 "nbformat_minor": 5
}
